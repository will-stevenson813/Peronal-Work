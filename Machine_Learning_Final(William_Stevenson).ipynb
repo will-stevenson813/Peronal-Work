{
  "cells": [
    {
      "cell_type": "markdown",
      "metadata": {
        "id": "view-in-github",
        "colab_type": "text"
      },
      "source": [
        "<a href=\"https://colab.research.google.com/github/will-stevenson813/Peronal-Work/blob/main/Machine_Learning_Final(William_Stevenson).ipynb\" target=\"_parent\"><img src=\"https://colab.research.google.com/assets/colab-badge.svg\" alt=\"Open In Colab\"/></a>"
      ]
    },
    {
      "cell_type": "markdown",
      "id": "585265e5",
      "metadata": {
        "id": "585265e5"
      },
      "source": [
        " # Machine Learning Midterm"
      ]
    },
    {
      "cell_type": "markdown",
      "id": "6f8b0822",
      "metadata": {
        "id": "6f8b0822"
      },
      "source": [
        "## Importing Libraries"
      ]
    },
    {
      "cell_type": "code",
      "execution_count": 1,
      "id": "fd3beceb",
      "metadata": {
        "id": "fd3beceb"
      },
      "outputs": [],
      "source": [
        "#Import all the necessary packages\n",
        "import pandas as pd\n",
        "import numpy as np\n",
        "\n",
        "import matplotlib.pylab as plt\n",
        "import seaborn as sns\n",
        "\n",
        "#to scale the data using z-score \n",
        "from sklearn.preprocessing import StandardScaler\n",
        "\n",
        "#importing clustering algorithms\n",
        "from sklearn.cluster import KMeans\n",
        "\n",
        "#Importing PCA and TSNE\n",
        "from sklearn.decomposition import PCA\n",
        "from sklearn.manifold import TSNE\n",
        "from sklearn.cluster import AgglomerativeClustering\n",
        "\n",
        "#Silhouette score\n",
        "from sklearn.metrics import silhouette_score\n",
        "\n",
        "# Regression & Decsision Tree Packages\n",
        "from sklearn.tree import DecisionTreeClassifier\n",
        "from sklearn.metrics import confusion_matrix, classification_report, precision_recall_curve\n",
        "from sklearn.model_selection import train_test_split\n",
        "from sklearn.linear_model import LogisticRegression\n",
        "from sklearn import metrics\n",
        "\n",
        "import warnings\n",
        "warnings.filterwarnings(\"ignore\")"
      ]
    },
    {
      "cell_type": "markdown",
      "id": "dd2f8822",
      "metadata": {
        "id": "dd2f8822"
      },
      "source": [
        "# Reading in Data"
      ]
    },
    {
      "cell_type": "code",
      "source": [
        "# we import necessary procedures from colab\n",
        "from google.colab import drive\n",
        "drive.mount('/content/drive')"
      ],
      "metadata": {
        "colab": {
          "base_uri": "https://localhost:8080/"
        },
        "id": "DyLnv1AoEXtJ",
        "outputId": "ca334a9f-4634-447c-c13f-214498ed4f45"
      },
      "id": "DyLnv1AoEXtJ",
      "execution_count": 2,
      "outputs": [
        {
          "output_type": "stream",
          "name": "stdout",
          "text": [
            "Mounted at /content/drive\n"
          ]
        }
      ]
    },
    {
      "cell_type": "code",
      "execution_count": 3,
      "id": "95c4a3dc",
      "metadata": {
        "colab": {
          "base_uri": "https://localhost:8080/",
          "height": 206
        },
        "id": "95c4a3dc",
        "outputId": "fc80a6ec-416c-44c3-f749-19b2717e5f92"
      },
      "outputs": [
        {
          "output_type": "execute_result",
          "data": {
            "text/plain": [
              "   Unnamed: 0  LOWPMPY  HIGHPMPY BRalpha  pl        date  amount    icd10  \\\n",
              "0           1   227.48   3647.19    LUMB   6  2019-03-01       7    M4606   \n",
              "1           2   254.49   3124.69    LUMB   2  2020-06-01       0     M545   \n",
              "2           3   403.85   5816.63    CERV   5  2020-08-01      27     M542   \n",
              "3           4   125.82   1875.76    LUMB   0  2018-06-01       0  S39012D   \n",
              "4           5   756.83   3822.98    CERV   4  2020-06-01      50    M9901   \n",
              "\n",
              "     cpt     PMPY    PCPY  Duration BRregion  mMaxPL.y  HighRisk  \n",
              "0  J1030  2755.60  138.28         4    SPINE         9         1  \n",
              "1  99213  2327.10  130.71         4    SPINE         5         1  \n",
              "2  97140  3820.79  208.67        78    SPINE         5         1  \n",
              "3  81003  1084.89   68.35        60    SPINE         3         0  \n",
              "4  98941  2845.33  280.15        21    SPINE         8         1  "
            ],
            "text/html": [
              "\n",
              "  <div id=\"df-ba436a2c-3e3d-4a75-bcf0-c8a009458cc4\">\n",
              "    <div class=\"colab-df-container\">\n",
              "      <div>\n",
              "<style scoped>\n",
              "    .dataframe tbody tr th:only-of-type {\n",
              "        vertical-align: middle;\n",
              "    }\n",
              "\n",
              "    .dataframe tbody tr th {\n",
              "        vertical-align: top;\n",
              "    }\n",
              "\n",
              "    .dataframe thead th {\n",
              "        text-align: right;\n",
              "    }\n",
              "</style>\n",
              "<table border=\"1\" class=\"dataframe\">\n",
              "  <thead>\n",
              "    <tr style=\"text-align: right;\">\n",
              "      <th></th>\n",
              "      <th>Unnamed: 0</th>\n",
              "      <th>LOWPMPY</th>\n",
              "      <th>HIGHPMPY</th>\n",
              "      <th>BRalpha</th>\n",
              "      <th>pl</th>\n",
              "      <th>date</th>\n",
              "      <th>amount</th>\n",
              "      <th>icd10</th>\n",
              "      <th>cpt</th>\n",
              "      <th>PMPY</th>\n",
              "      <th>PCPY</th>\n",
              "      <th>Duration</th>\n",
              "      <th>BRregion</th>\n",
              "      <th>mMaxPL.y</th>\n",
              "      <th>HighRisk</th>\n",
              "    </tr>\n",
              "  </thead>\n",
              "  <tbody>\n",
              "    <tr>\n",
              "      <th>0</th>\n",
              "      <td>1</td>\n",
              "      <td>227.48</td>\n",
              "      <td>3647.19</td>\n",
              "      <td>LUMB</td>\n",
              "      <td>6</td>\n",
              "      <td>2019-03-01</td>\n",
              "      <td>7</td>\n",
              "      <td>M4606</td>\n",
              "      <td>J1030</td>\n",
              "      <td>2755.60</td>\n",
              "      <td>138.28</td>\n",
              "      <td>4</td>\n",
              "      <td>SPINE</td>\n",
              "      <td>9</td>\n",
              "      <td>1</td>\n",
              "    </tr>\n",
              "    <tr>\n",
              "      <th>1</th>\n",
              "      <td>2</td>\n",
              "      <td>254.49</td>\n",
              "      <td>3124.69</td>\n",
              "      <td>LUMB</td>\n",
              "      <td>2</td>\n",
              "      <td>2020-06-01</td>\n",
              "      <td>0</td>\n",
              "      <td>M545</td>\n",
              "      <td>99213</td>\n",
              "      <td>2327.10</td>\n",
              "      <td>130.71</td>\n",
              "      <td>4</td>\n",
              "      <td>SPINE</td>\n",
              "      <td>5</td>\n",
              "      <td>1</td>\n",
              "    </tr>\n",
              "    <tr>\n",
              "      <th>2</th>\n",
              "      <td>3</td>\n",
              "      <td>403.85</td>\n",
              "      <td>5816.63</td>\n",
              "      <td>CERV</td>\n",
              "      <td>5</td>\n",
              "      <td>2020-08-01</td>\n",
              "      <td>27</td>\n",
              "      <td>M542</td>\n",
              "      <td>97140</td>\n",
              "      <td>3820.79</td>\n",
              "      <td>208.67</td>\n",
              "      <td>78</td>\n",
              "      <td>SPINE</td>\n",
              "      <td>5</td>\n",
              "      <td>1</td>\n",
              "    </tr>\n",
              "    <tr>\n",
              "      <th>3</th>\n",
              "      <td>4</td>\n",
              "      <td>125.82</td>\n",
              "      <td>1875.76</td>\n",
              "      <td>LUMB</td>\n",
              "      <td>0</td>\n",
              "      <td>2018-06-01</td>\n",
              "      <td>0</td>\n",
              "      <td>S39012D</td>\n",
              "      <td>81003</td>\n",
              "      <td>1084.89</td>\n",
              "      <td>68.35</td>\n",
              "      <td>60</td>\n",
              "      <td>SPINE</td>\n",
              "      <td>3</td>\n",
              "      <td>0</td>\n",
              "    </tr>\n",
              "    <tr>\n",
              "      <th>4</th>\n",
              "      <td>5</td>\n",
              "      <td>756.83</td>\n",
              "      <td>3822.98</td>\n",
              "      <td>CERV</td>\n",
              "      <td>4</td>\n",
              "      <td>2020-06-01</td>\n",
              "      <td>50</td>\n",
              "      <td>M9901</td>\n",
              "      <td>98941</td>\n",
              "      <td>2845.33</td>\n",
              "      <td>280.15</td>\n",
              "      <td>21</td>\n",
              "      <td>SPINE</td>\n",
              "      <td>8</td>\n",
              "      <td>1</td>\n",
              "    </tr>\n",
              "  </tbody>\n",
              "</table>\n",
              "</div>\n",
              "      <button class=\"colab-df-convert\" onclick=\"convertToInteractive('df-ba436a2c-3e3d-4a75-bcf0-c8a009458cc4')\"\n",
              "              title=\"Convert this dataframe to an interactive table.\"\n",
              "              style=\"display:none;\">\n",
              "        \n",
              "  <svg xmlns=\"http://www.w3.org/2000/svg\" height=\"24px\"viewBox=\"0 0 24 24\"\n",
              "       width=\"24px\">\n",
              "    <path d=\"M0 0h24v24H0V0z\" fill=\"none\"/>\n",
              "    <path d=\"M18.56 5.44l.94 2.06.94-2.06 2.06-.94-2.06-.94-.94-2.06-.94 2.06-2.06.94zm-11 1L8.5 8.5l.94-2.06 2.06-.94-2.06-.94L8.5 2.5l-.94 2.06-2.06.94zm10 10l.94 2.06.94-2.06 2.06-.94-2.06-.94-.94-2.06-.94 2.06-2.06.94z\"/><path d=\"M17.41 7.96l-1.37-1.37c-.4-.4-.92-.59-1.43-.59-.52 0-1.04.2-1.43.59L10.3 9.45l-7.72 7.72c-.78.78-.78 2.05 0 2.83L4 21.41c.39.39.9.59 1.41.59.51 0 1.02-.2 1.41-.59l7.78-7.78 2.81-2.81c.8-.78.8-2.07 0-2.86zM5.41 20L4 18.59l7.72-7.72 1.47 1.35L5.41 20z\"/>\n",
              "  </svg>\n",
              "      </button>\n",
              "      \n",
              "  <style>\n",
              "    .colab-df-container {\n",
              "      display:flex;\n",
              "      flex-wrap:wrap;\n",
              "      gap: 12px;\n",
              "    }\n",
              "\n",
              "    .colab-df-convert {\n",
              "      background-color: #E8F0FE;\n",
              "      border: none;\n",
              "      border-radius: 50%;\n",
              "      cursor: pointer;\n",
              "      display: none;\n",
              "      fill: #1967D2;\n",
              "      height: 32px;\n",
              "      padding: 0 0 0 0;\n",
              "      width: 32px;\n",
              "    }\n",
              "\n",
              "    .colab-df-convert:hover {\n",
              "      background-color: #E2EBFA;\n",
              "      box-shadow: 0px 1px 2px rgba(60, 64, 67, 0.3), 0px 1px 3px 1px rgba(60, 64, 67, 0.15);\n",
              "      fill: #174EA6;\n",
              "    }\n",
              "\n",
              "    [theme=dark] .colab-df-convert {\n",
              "      background-color: #3B4455;\n",
              "      fill: #D2E3FC;\n",
              "    }\n",
              "\n",
              "    [theme=dark] .colab-df-convert:hover {\n",
              "      background-color: #434B5C;\n",
              "      box-shadow: 0px 1px 3px 1px rgba(0, 0, 0, 0.15);\n",
              "      filter: drop-shadow(0px 1px 2px rgba(0, 0, 0, 0.3));\n",
              "      fill: #FFFFFF;\n",
              "    }\n",
              "  </style>\n",
              "\n",
              "      <script>\n",
              "        const buttonEl =\n",
              "          document.querySelector('#df-ba436a2c-3e3d-4a75-bcf0-c8a009458cc4 button.colab-df-convert');\n",
              "        buttonEl.style.display =\n",
              "          google.colab.kernel.accessAllowed ? 'block' : 'none';\n",
              "\n",
              "        async function convertToInteractive(key) {\n",
              "          const element = document.querySelector('#df-ba436a2c-3e3d-4a75-bcf0-c8a009458cc4');\n",
              "          const dataTable =\n",
              "            await google.colab.kernel.invokeFunction('convertToInteractive',\n",
              "                                                     [key], {});\n",
              "          if (!dataTable) return;\n",
              "\n",
              "          const docLinkHtml = 'Like what you see? Visit the ' +\n",
              "            '<a target=\"_blank\" href=https://colab.research.google.com/notebooks/data_table.ipynb>data table notebook</a>'\n",
              "            + ' to learn more about interactive tables.';\n",
              "          element.innerHTML = '';\n",
              "          dataTable['output_type'] = 'display_data';\n",
              "          await google.colab.output.renderOutput(dataTable, element);\n",
              "          const docLink = document.createElement('div');\n",
              "          docLink.innerHTML = docLinkHtml;\n",
              "          element.appendChild(docLink);\n",
              "        }\n",
              "      </script>\n",
              "    </div>\n",
              "  </div>\n",
              "  "
            ]
          },
          "metadata": {},
          "execution_count": 3
        }
      ],
      "source": [
        "data = pd.read_csv('/content/drive/MyDrive/Machine_Learning/MIDTERMANACONDA.csv')\n",
        "data.head()"
      ]
    },
    {
      "cell_type": "code",
      "execution_count": 4,
      "id": "53066df7",
      "metadata": {
        "id": "53066df7",
        "colab": {
          "base_uri": "https://localhost:8080/"
        },
        "outputId": "aaed2aae-8b6f-43f9-b460-f9e5e58cd74d"
      },
      "outputs": [
        {
          "output_type": "stream",
          "name": "stdout",
          "text": [
            "<class 'pandas.core.frame.DataFrame'>\n",
            "RangeIndex: 20000 entries, 0 to 19999\n",
            "Data columns (total 15 columns):\n",
            " #   Column      Non-Null Count  Dtype  \n",
            "---  ------      --------------  -----  \n",
            " 0   Unnamed: 0  20000 non-null  int64  \n",
            " 1   LOWPMPY     20000 non-null  float64\n",
            " 2   HIGHPMPY    20000 non-null  float64\n",
            " 3   BRalpha     20000 non-null  object \n",
            " 4   pl          20000 non-null  int64  \n",
            " 5   date        20000 non-null  object \n",
            " 6   amount      20000 non-null  int64  \n",
            " 7   icd10       20000 non-null  object \n",
            " 8   cpt         20000 non-null  object \n",
            " 9   PMPY        20000 non-null  float64\n",
            " 10  PCPY        20000 non-null  float64\n",
            " 11  Duration    20000 non-null  int64  \n",
            " 12  BRregion    20000 non-null  object \n",
            " 13  mMaxPL.y    20000 non-null  int64  \n",
            " 14  HighRisk    20000 non-null  int64  \n",
            "dtypes: float64(4), int64(6), object(5)\n",
            "memory usage: 2.3+ MB\n"
          ]
        }
      ],
      "source": [
        "data.info()"
      ]
    },
    {
      "cell_type": "markdown",
      "id": "1c42a478",
      "metadata": {
        "id": "1c42a478"
      },
      "source": [
        "# Data Dictionary"
      ]
    },
    {
      "cell_type": "markdown",
      "id": "ff4e5abe",
      "metadata": {
        "id": "ff4e5abe"
      },
      "source": [
        "\n",
        "LOWPMPY: Per-Member Per-year amount observed for Low-Risk patients for each subset.\n",
        "\n",
        "HIGHPMPY: Per-Member Per-year amount observed for High-Risk patients for each subset.\n",
        "\n",
        "BRalpha: Body region in question on claim\n",
        "\n",
        "pl: Denotes the severity of the procedure in that claim\n",
        "\n",
        "date: Month in which the procedure was done\n",
        "\n",
        "amount: The amount billed to the insurance company for each procedure\n",
        "\n",
        "icd10: Code corresponding to the diagnosis of the patient at the time of that procedure\n",
        "\n",
        "cpt: Code corresponding to the acutal procudure that was given to the patient in that claim\n",
        "\n",
        "PMPY: Average Per-Member Per-year amount observed for each subset.\n",
        "\n",
        "PCPY: Per-Claim Per-Year metric calculated by susbset\n",
        "\n",
        "Duration: How long each patient was rendered care for a specific ailment\n",
        "\n",
        "BRregion: Custom tuned body region groups that each claim fell into\n",
        "\n",
        "mMaxPL.y: The max PL that each patient achieved that year. (Is reset every year)\n",
        "\n",
        "High-Risk: 1 if patient had a claim of severity level 5 or over. 0 otherwise."
      ]
    },
    {
      "cell_type": "markdown",
      "id": "e52fe3c0",
      "metadata": {
        "id": "e52fe3c0"
      },
      "source": [
        "# Fantastic\n",
        "It looks like all of our variables do have non-null values. Complete dataset."
      ]
    },
    {
      "cell_type": "markdown",
      "id": "fa0ce551",
      "metadata": {
        "id": "fa0ce551"
      },
      "source": [
        "# No need to check for duplicates, we know they are all individual"
      ]
    },
    {
      "cell_type": "markdown",
      "id": "4762cbd8",
      "metadata": {
        "id": "4762cbd8"
      },
      "source": [
        "We can go ahead and drop: 'Unnamed: 0', 'BRalpha, 'BRregion', 'icd10','cpt','date' either because they are useless or catagorical variables that do not really help our analysis"
      ]
    },
    {
      "cell_type": "code",
      "execution_count": 5,
      "id": "84fd595f",
      "metadata": {
        "id": "84fd595f"
      },
      "outputs": [],
      "source": [
        "data = data.drop(['Unnamed: 0', 'BRalpha', 'BRregion', 'icd10', 'cpt','date'], axis = 1)"
      ]
    },
    {
      "cell_type": "markdown",
      "id": "fbce035d",
      "metadata": {
        "id": "fbce035d"
      },
      "source": [
        "Next, let us get some summary statistics of our dataset"
      ]
    },
    {
      "cell_type": "code",
      "execution_count": 6,
      "id": "7b389472",
      "metadata": {
        "scrolled": true,
        "id": "7b389472",
        "colab": {
          "base_uri": "https://localhost:8080/",
          "height": 332
        },
        "outputId": "7167bef0-8919-4569-86dd-99fb30ee5c6d"
      },
      "outputs": [
        {
          "output_type": "execute_result",
          "data": {
            "text/plain": [
              "            count         mean          std       min      25%      50%  \\\n",
              "LOWPMPY   20000.0   347.837131   205.151163     83.43   227.48   279.63   \n",
              "HIGHPMPY  20000.0  3965.447851  1782.615461    961.69  2902.76  3615.32   \n",
              "pl        20000.0     4.118350     2.934344      0.00     2.00     5.00   \n",
              "amount    20000.0   179.866700  1553.848423 -14438.00     0.00    32.00   \n",
              "PMPY      20000.0  2678.960899  1206.171927    569.81  1394.01  2755.60   \n",
              "PCPY      20000.0   170.364990    85.504875     68.35   100.50   138.28   \n",
              "Duration  20000.0    35.662900    39.616416      0.00     4.00    21.00   \n",
              "mMaxPL.y  20000.0     6.274650     2.534648      0.00     5.00     6.00   \n",
              "HighRisk  20000.0     0.816250     0.387290      0.00     1.00     1.00   \n",
              "\n",
              "              75%        max  \n",
              "LOWPMPY    447.11     780.19  \n",
              "HIGHPMPY  5355.51    8192.32  \n",
              "pl           5.00       9.00  \n",
              "amount      98.00  126507.00  \n",
              "PMPY      3438.65    5179.47  \n",
              "PCPY       208.67     489.19  \n",
              "Duration    56.00     174.00  \n",
              "mMaxPL.y     9.00       9.00  \n",
              "HighRisk     1.00       1.00  "
            ],
            "text/html": [
              "\n",
              "  <div id=\"df-cfdd5f5d-c843-4e4f-b3a3-f5d0f0305cc4\">\n",
              "    <div class=\"colab-df-container\">\n",
              "      <div>\n",
              "<style scoped>\n",
              "    .dataframe tbody tr th:only-of-type {\n",
              "        vertical-align: middle;\n",
              "    }\n",
              "\n",
              "    .dataframe tbody tr th {\n",
              "        vertical-align: top;\n",
              "    }\n",
              "\n",
              "    .dataframe thead th {\n",
              "        text-align: right;\n",
              "    }\n",
              "</style>\n",
              "<table border=\"1\" class=\"dataframe\">\n",
              "  <thead>\n",
              "    <tr style=\"text-align: right;\">\n",
              "      <th></th>\n",
              "      <th>count</th>\n",
              "      <th>mean</th>\n",
              "      <th>std</th>\n",
              "      <th>min</th>\n",
              "      <th>25%</th>\n",
              "      <th>50%</th>\n",
              "      <th>75%</th>\n",
              "      <th>max</th>\n",
              "    </tr>\n",
              "  </thead>\n",
              "  <tbody>\n",
              "    <tr>\n",
              "      <th>LOWPMPY</th>\n",
              "      <td>20000.0</td>\n",
              "      <td>347.837131</td>\n",
              "      <td>205.151163</td>\n",
              "      <td>83.43</td>\n",
              "      <td>227.48</td>\n",
              "      <td>279.63</td>\n",
              "      <td>447.11</td>\n",
              "      <td>780.19</td>\n",
              "    </tr>\n",
              "    <tr>\n",
              "      <th>HIGHPMPY</th>\n",
              "      <td>20000.0</td>\n",
              "      <td>3965.447851</td>\n",
              "      <td>1782.615461</td>\n",
              "      <td>961.69</td>\n",
              "      <td>2902.76</td>\n",
              "      <td>3615.32</td>\n",
              "      <td>5355.51</td>\n",
              "      <td>8192.32</td>\n",
              "    </tr>\n",
              "    <tr>\n",
              "      <th>pl</th>\n",
              "      <td>20000.0</td>\n",
              "      <td>4.118350</td>\n",
              "      <td>2.934344</td>\n",
              "      <td>0.00</td>\n",
              "      <td>2.00</td>\n",
              "      <td>5.00</td>\n",
              "      <td>5.00</td>\n",
              "      <td>9.00</td>\n",
              "    </tr>\n",
              "    <tr>\n",
              "      <th>amount</th>\n",
              "      <td>20000.0</td>\n",
              "      <td>179.866700</td>\n",
              "      <td>1553.848423</td>\n",
              "      <td>-14438.00</td>\n",
              "      <td>0.00</td>\n",
              "      <td>32.00</td>\n",
              "      <td>98.00</td>\n",
              "      <td>126507.00</td>\n",
              "    </tr>\n",
              "    <tr>\n",
              "      <th>PMPY</th>\n",
              "      <td>20000.0</td>\n",
              "      <td>2678.960899</td>\n",
              "      <td>1206.171927</td>\n",
              "      <td>569.81</td>\n",
              "      <td>1394.01</td>\n",
              "      <td>2755.60</td>\n",
              "      <td>3438.65</td>\n",
              "      <td>5179.47</td>\n",
              "    </tr>\n",
              "    <tr>\n",
              "      <th>PCPY</th>\n",
              "      <td>20000.0</td>\n",
              "      <td>170.364990</td>\n",
              "      <td>85.504875</td>\n",
              "      <td>68.35</td>\n",
              "      <td>100.50</td>\n",
              "      <td>138.28</td>\n",
              "      <td>208.67</td>\n",
              "      <td>489.19</td>\n",
              "    </tr>\n",
              "    <tr>\n",
              "      <th>Duration</th>\n",
              "      <td>20000.0</td>\n",
              "      <td>35.662900</td>\n",
              "      <td>39.616416</td>\n",
              "      <td>0.00</td>\n",
              "      <td>4.00</td>\n",
              "      <td>21.00</td>\n",
              "      <td>56.00</td>\n",
              "      <td>174.00</td>\n",
              "    </tr>\n",
              "    <tr>\n",
              "      <th>mMaxPL.y</th>\n",
              "      <td>20000.0</td>\n",
              "      <td>6.274650</td>\n",
              "      <td>2.534648</td>\n",
              "      <td>0.00</td>\n",
              "      <td>5.00</td>\n",
              "      <td>6.00</td>\n",
              "      <td>9.00</td>\n",
              "      <td>9.00</td>\n",
              "    </tr>\n",
              "    <tr>\n",
              "      <th>HighRisk</th>\n",
              "      <td>20000.0</td>\n",
              "      <td>0.816250</td>\n",
              "      <td>0.387290</td>\n",
              "      <td>0.00</td>\n",
              "      <td>1.00</td>\n",
              "      <td>1.00</td>\n",
              "      <td>1.00</td>\n",
              "      <td>1.00</td>\n",
              "    </tr>\n",
              "  </tbody>\n",
              "</table>\n",
              "</div>\n",
              "      <button class=\"colab-df-convert\" onclick=\"convertToInteractive('df-cfdd5f5d-c843-4e4f-b3a3-f5d0f0305cc4')\"\n",
              "              title=\"Convert this dataframe to an interactive table.\"\n",
              "              style=\"display:none;\">\n",
              "        \n",
              "  <svg xmlns=\"http://www.w3.org/2000/svg\" height=\"24px\"viewBox=\"0 0 24 24\"\n",
              "       width=\"24px\">\n",
              "    <path d=\"M0 0h24v24H0V0z\" fill=\"none\"/>\n",
              "    <path d=\"M18.56 5.44l.94 2.06.94-2.06 2.06-.94-2.06-.94-.94-2.06-.94 2.06-2.06.94zm-11 1L8.5 8.5l.94-2.06 2.06-.94-2.06-.94L8.5 2.5l-.94 2.06-2.06.94zm10 10l.94 2.06.94-2.06 2.06-.94-2.06-.94-.94-2.06-.94 2.06-2.06.94z\"/><path d=\"M17.41 7.96l-1.37-1.37c-.4-.4-.92-.59-1.43-.59-.52 0-1.04.2-1.43.59L10.3 9.45l-7.72 7.72c-.78.78-.78 2.05 0 2.83L4 21.41c.39.39.9.59 1.41.59.51 0 1.02-.2 1.41-.59l7.78-7.78 2.81-2.81c.8-.78.8-2.07 0-2.86zM5.41 20L4 18.59l7.72-7.72 1.47 1.35L5.41 20z\"/>\n",
              "  </svg>\n",
              "      </button>\n",
              "      \n",
              "  <style>\n",
              "    .colab-df-container {\n",
              "      display:flex;\n",
              "      flex-wrap:wrap;\n",
              "      gap: 12px;\n",
              "    }\n",
              "\n",
              "    .colab-df-convert {\n",
              "      background-color: #E8F0FE;\n",
              "      border: none;\n",
              "      border-radius: 50%;\n",
              "      cursor: pointer;\n",
              "      display: none;\n",
              "      fill: #1967D2;\n",
              "      height: 32px;\n",
              "      padding: 0 0 0 0;\n",
              "      width: 32px;\n",
              "    }\n",
              "\n",
              "    .colab-df-convert:hover {\n",
              "      background-color: #E2EBFA;\n",
              "      box-shadow: 0px 1px 2px rgba(60, 64, 67, 0.3), 0px 1px 3px 1px rgba(60, 64, 67, 0.15);\n",
              "      fill: #174EA6;\n",
              "    }\n",
              "\n",
              "    [theme=dark] .colab-df-convert {\n",
              "      background-color: #3B4455;\n",
              "      fill: #D2E3FC;\n",
              "    }\n",
              "\n",
              "    [theme=dark] .colab-df-convert:hover {\n",
              "      background-color: #434B5C;\n",
              "      box-shadow: 0px 1px 3px 1px rgba(0, 0, 0, 0.15);\n",
              "      filter: drop-shadow(0px 1px 2px rgba(0, 0, 0, 0.3));\n",
              "      fill: #FFFFFF;\n",
              "    }\n",
              "  </style>\n",
              "\n",
              "      <script>\n",
              "        const buttonEl =\n",
              "          document.querySelector('#df-cfdd5f5d-c843-4e4f-b3a3-f5d0f0305cc4 button.colab-df-convert');\n",
              "        buttonEl.style.display =\n",
              "          google.colab.kernel.accessAllowed ? 'block' : 'none';\n",
              "\n",
              "        async function convertToInteractive(key) {\n",
              "          const element = document.querySelector('#df-cfdd5f5d-c843-4e4f-b3a3-f5d0f0305cc4');\n",
              "          const dataTable =\n",
              "            await google.colab.kernel.invokeFunction('convertToInteractive',\n",
              "                                                     [key], {});\n",
              "          if (!dataTable) return;\n",
              "\n",
              "          const docLinkHtml = 'Like what you see? Visit the ' +\n",
              "            '<a target=\"_blank\" href=https://colab.research.google.com/notebooks/data_table.ipynb>data table notebook</a>'\n",
              "            + ' to learn more about interactive tables.';\n",
              "          element.innerHTML = '';\n",
              "          dataTable['output_type'] = 'display_data';\n",
              "          await google.colab.output.renderOutput(dataTable, element);\n",
              "          const docLink = document.createElement('div');\n",
              "          docLink.innerHTML = docLinkHtml;\n",
              "          element.appendChild(docLink);\n",
              "        }\n",
              "      </script>\n",
              "    </div>\n",
              "  </div>\n",
              "  "
            ]
          },
          "metadata": {},
          "execution_count": 6
        }
      ],
      "source": [
        "data.describe().T"
      ]
    },
    {
      "cell_type": "markdown",
      "id": "9e634acf",
      "metadata": {
        "id": "9e634acf"
      },
      "source": [
        "It seems like their are some negative values in our 'amount' variable. These are for when an insurnace company miss-charged a patient and is setteling that mishap. We will ignore them for our analysis.\n",
        "\n",
        "Some high LOWPMPY subsets make the mean larger than the median.\n",
        "\n",
        "Amount is also skewed with mean much higher than median.\n",
        "\n",
        "Some really long durations make the mean quite a bit larger than the median."
      ]
    },
    {
      "cell_type": "code",
      "execution_count": 7,
      "id": "db7661f1",
      "metadata": {
        "id": "db7661f1"
      },
      "outputs": [],
      "source": [
        "Data2 = data[data.amount >= 0] "
      ]
    },
    {
      "cell_type": "code",
      "execution_count": 8,
      "id": "7428d50c",
      "metadata": {
        "id": "7428d50c",
        "colab": {
          "base_uri": "https://localhost:8080/"
        },
        "outputId": "eeae6485-781c-4d82-92dd-d5d948f3e245"
      },
      "outputs": [
        {
          "output_type": "stream",
          "name": "stdout",
          "text": [
            "<class 'pandas.core.frame.DataFrame'>\n",
            "Int64Index: 19903 entries, 0 to 19999\n",
            "Data columns (total 9 columns):\n",
            " #   Column    Non-Null Count  Dtype  \n",
            "---  ------    --------------  -----  \n",
            " 0   LOWPMPY   19903 non-null  float64\n",
            " 1   HIGHPMPY  19903 non-null  float64\n",
            " 2   pl        19903 non-null  int64  \n",
            " 3   amount    19903 non-null  int64  \n",
            " 4   PMPY      19903 non-null  float64\n",
            " 5   PCPY      19903 non-null  float64\n",
            " 6   Duration  19903 non-null  int64  \n",
            " 7   mMaxPL.y  19903 non-null  int64  \n",
            " 8   HighRisk  19903 non-null  int64  \n",
            "dtypes: float64(4), int64(5)\n",
            "memory usage: 1.5 MB\n"
          ]
        }
      ],
      "source": [
        "Data2.describe().T\n",
        "Data2.info()"
      ]
    },
    {
      "cell_type": "markdown",
      "id": "c7213d94",
      "metadata": {
        "id": "c7213d94"
      },
      "source": [
        "No missing values, that is nice."
      ]
    },
    {
      "cell_type": "code",
      "execution_count": 9,
      "id": "e35372d8",
      "metadata": {
        "id": "e35372d8",
        "colab": {
          "base_uri": "https://localhost:8080/",
          "height": 1000
        },
        "outputId": "2c8387dd-921e-4aac-d6cf-77d65bc51874"
      },
      "outputs": [
        {
          "output_type": "stream",
          "name": "stdout",
          "text": [
            "HIGHPMPY\n",
            "Skew : 0.73\n"
          ]
        },
        {
          "output_type": "display_data",
          "data": {
            "text/plain": [
              "<Figure size 1080x288 with 2 Axes>"
            ],
            "image/png": "[encoded data removed]"
          },
          "metadata": {
            "needs_background": "light"
          }
        },
        {
          "output_type": "stream",
          "name": "stdout",
          "text": [
            "pl\n",
            "Skew : 0.1\n"
          ]
        },
        {
          "output_type": "display_data",
          "data": {
            "text/plain": [
              "<Figure size 1080x288 with 2 Axes>"
            ],
            "image/png": "[encoded data removed]"
          },
          "metadata": {
            "needs_background": "light"
          }
        },
        {
          "output_type": "stream",
          "name": "stdout",
          "text": [
            "amount\n",
            "Skew : 50.09\n"
          ]
        },
        {
          "output_type": "display_data",
          "data": {
            "text/plain": [
              "<Figure size 1080x288 with 2 Axes>"
            ],
            "image/png": "[encoded data removed]"
          },
          "metadata": {
            "needs_background": "light"
          }
        },
        {
          "output_type": "stream",
          "name": "stdout",
          "text": [
            "PMPY\n",
            "Skew : 0.26\n"
          ]
        },
        {
          "output_type": "display_data",
          "data": {
            "text/plain": [
              "<Figure size 1080x288 with 2 Axes>"
            ],
            "image/png": "[encoded data removed]"
          },
          "metadata": {
            "needs_background": "light"
          }
        },
        {
          "output_type": "stream",
          "name": "stdout",
          "text": [
            "PCPY\n",
            "Skew : 0.87\n"
          ]
        },
        {
          "output_type": "display_data",
          "data": {
            "text/plain": [
              "<Figure size 1080x288 with 2 Axes>"
            ],
            "image/png": "[encoded data removed]"
          },
          "metadata": {
            "needs_background": "light"
          }
        },
        {
          "output_type": "stream",
          "name": "stdout",
          "text": [
            "Duration\n",
            "Skew : 1.19\n"
          ]
        },
        {
          "output_type": "display_data",
          "data": {
            "text/plain": [
              "<Figure size 1080x288 with 2 Axes>"
            ],
            "image/png": "[encoded data removed]"
          },
          "metadata": {
            "needs_background": "light"
          }
        },
        {
          "output_type": "stream",
          "name": "stdout",
          "text": [
            "mMaxPL.y\n",
            "Skew : -0.6\n"
          ]
        },
        {
          "output_type": "display_data",
          "data": {
            "text/plain": [
              "<Figure size 1080x288 with 2 Axes>"
            ],
            "image/png": "[encoded data removed]"
          },
          "metadata": {
            "needs_background": "light"
          }
        },
        {
          "output_type": "stream",
          "name": "stdout",
          "text": [
            "HighRisk\n",
            "Skew : -1.63\n"
          ]
        },
        {
          "output_type": "display_data",
          "data": {
            "text/plain": [
              "<Figure size 1080x288 with 2 Axes>"
            ],
            "image/png": "[encoded data removed]"
          },
          "metadata": {
            "needs_background": "light"
          }
        }
      ],
      "source": [
        "for col in data.columns[1:]:\n",
        "    print(col)\n",
        "    print('Skew :',round(data[col].skew(),2))\n",
        "    plt.figure(figsize=(15,4))\n",
        "    plt.subplot(1,2,1)\n",
        "    data[col].hist(bins=10, grid=False)\n",
        "    plt.ylabel('count')\n",
        "    plt.subplot(1,2,2)\n",
        "    sns.boxplot(x=data[col])\n",
        "    plt.show()"
      ]
    },
    {
      "cell_type": "markdown",
      "id": "f734b42e",
      "metadata": {
        "id": "f734b42e"
      },
      "source": [
        "Some very large HIGHPMPY's pull the mean up.\n",
        "\n",
        "Lots of people have very low severity procedures which explains all the low values. A spike at PL = 5 becuase that is injections, which happens quite a bit.\n",
        "\n",
        "Massive outliers in amount as very few people have massive charges. \n",
        "\n",
        "Some subsets have less claims than others so that skews this metric.\n",
        "\n",
        "Duration also heavily skewed. Most people do have an ailment for too long, while a few others have really extended problems.\n",
        "\n",
        "mMaxPL is possibly right skewed becuase it is the MAX of peoples procedure levels.\n",
        "\n",
        "High risk is either zero or one, so that is why it looks weird."
      ]
    },
    {
      "cell_type": "code",
      "execution_count": 10,
      "id": "a619621b",
      "metadata": {
        "id": "a619621b",
        "colab": {
          "base_uri": "https://localhost:8080/",
          "height": 1000
        },
        "outputId": "1b4e3eab-a9e9-41dd-ba53-6c1fda3f6c3c"
      },
      "outputs": [
        {
          "output_type": "display_data",
          "data": {
            "text/plain": [
              "<Figure size 1440x1440 with 2 Axes>"
            ],
            "image/png": "[encoded data removed]"
          },
          "metadata": {
            "needs_background": "light"
          }
        }
      ],
      "source": [
        "plt.figure(figsize  = (20,20))\n",
        "sns.heatmap(data.corr(), annot = True, cmap=\"YlGnBu\")\n",
        "plt.show()"
      ]
    },
    {
      "cell_type": "markdown",
      "id": "802293e9",
      "metadata": {
        "id": "802293e9"
      },
      "source": [
        " HIGH & LOW PMPY are highly correlated. I think this is probably becuase certian subsets have fewer observations than others, which leads to higher variability in both of these figures. \n",
        " \n",
        " HighRisk and mMaxPL are also correlated because your mMAxPL is what determines if you are High or Low Risk.\n",
        " \n",
        " HIGHPMPY and PMPY are correlated probably becuase it is basically an average of LOWPMPY and HIGHPMPY. LOWPMPY tends to have lower variability, so most of the average (PMPY) variability comes from HIGHPMPY. This is why PMPY is also correlated with LOWPMPY, but to a lesser degree."
      ]
    },
    {
      "cell_type": "markdown",
      "id": "ca8452d2",
      "metadata": {
        "id": "ca8452d2"
      },
      "source": [
        "Copy the dataset before we scale it to preserve original data"
      ]
    },
    {
      "cell_type": "code",
      "execution_count": 11,
      "id": "bc0eccad",
      "metadata": {
        "id": "bc0eccad",
        "colab": {
          "base_uri": "https://localhost:8080/",
          "height": 206
        },
        "outputId": "4c9da054-f246-416c-9ac3-c398a252d293"
      },
      "outputs": [
        {
          "output_type": "execute_result",
          "data": {
            "text/plain": [
              "    LOWPMPY  HIGHPMPY        pl    amount      PMPY      PCPY  Duration  \\\n",
              "0 -0.588792 -0.180902  0.640848 -0.112825  0.060550 -0.378168 -0.799574   \n",
              "1 -0.457157 -0.473922 -0.722317 -0.117330 -0.294813 -0.466697 -0.799574   \n",
              "2  0.270759  1.035724  0.300057 -0.099953  0.943933  0.445024  1.066419   \n",
              "3 -1.084239 -1.174324 -1.403900 -0.117330 -1.325001 -1.195980  0.612529   \n",
              "4  1.991031 -0.082319 -0.040735 -0.085151  0.134965  1.280963 -0.370900   \n",
              "\n",
              "   mMaxPL.y  HighRisk  \n",
              "0  1.075806  0.474767  \n",
              "1 -0.502534  0.474767  \n",
              "2 -0.502534  0.474767  \n",
              "3 -1.291704 -2.106298  \n",
              "4  0.681221  0.474767  "
            ],
            "text/html": [
              "\n",
              "  <div id=\"df-9333637f-0535-4380-9a21-f3f833236ae6\">\n",
              "    <div class=\"colab-df-container\">\n",
              "      <div>\n",
              "<style scoped>\n",
              "    .dataframe tbody tr th:only-of-type {\n",
              "        vertical-align: middle;\n",
              "    }\n",
              "\n",
              "    .dataframe tbody tr th {\n",
              "        vertical-align: top;\n",
              "    }\n",
              "\n",
              "    .dataframe thead th {\n",
              "        text-align: right;\n",
              "    }\n",
              "</style>\n",
              "<table border=\"1\" class=\"dataframe\">\n",
              "  <thead>\n",
              "    <tr style=\"text-align: right;\">\n",
              "      <th></th>\n",
              "      <th>LOWPMPY</th>\n",
              "      <th>HIGHPMPY</th>\n",
              "      <th>pl</th>\n",
              "      <th>amount</th>\n",
              "      <th>PMPY</th>\n",
              "      <th>PCPY</th>\n",
              "      <th>Duration</th>\n",
              "      <th>mMaxPL.y</th>\n",
              "      <th>HighRisk</th>\n",
              "    </tr>\n",
              "  </thead>\n",
              "  <tbody>\n",
              "    <tr>\n",
              "      <th>0</th>\n",
              "      <td>-0.588792</td>\n",
              "      <td>-0.180902</td>\n",
              "      <td>0.640848</td>\n",
              "      <td>-0.112825</td>\n",
              "      <td>0.060550</td>\n",
              "      <td>-0.378168</td>\n",
              "      <td>-0.799574</td>\n",
              "      <td>1.075806</td>\n",
              "      <td>0.474767</td>\n",
              "    </tr>\n",
              "    <tr>\n",
              "      <th>1</th>\n",
              "      <td>-0.457157</td>\n",
              "      <td>-0.473922</td>\n",
              "      <td>-0.722317</td>\n",
              "      <td>-0.117330</td>\n",
              "      <td>-0.294813</td>\n",
              "      <td>-0.466697</td>\n",
              "      <td>-0.799574</td>\n",
              "      <td>-0.502534</td>\n",
              "      <td>0.474767</td>\n",
              "    </tr>\n",
              "    <tr>\n",
              "      <th>2</th>\n",
              "      <td>0.270759</td>\n",
              "      <td>1.035724</td>\n",
              "      <td>0.300057</td>\n",
              "      <td>-0.099953</td>\n",
              "      <td>0.943933</td>\n",
              "      <td>0.445024</td>\n",
              "      <td>1.066419</td>\n",
              "      <td>-0.502534</td>\n",
              "      <td>0.474767</td>\n",
              "    </tr>\n",
              "    <tr>\n",
              "      <th>3</th>\n",
              "      <td>-1.084239</td>\n",
              "      <td>-1.174324</td>\n",
              "      <td>-1.403900</td>\n",
              "      <td>-0.117330</td>\n",
              "      <td>-1.325001</td>\n",
              "      <td>-1.195980</td>\n",
              "      <td>0.612529</td>\n",
              "      <td>-1.291704</td>\n",
              "      <td>-2.106298</td>\n",
              "    </tr>\n",
              "    <tr>\n",
              "      <th>4</th>\n",
              "      <td>1.991031</td>\n",
              "      <td>-0.082319</td>\n",
              "      <td>-0.040735</td>\n",
              "      <td>-0.085151</td>\n",
              "      <td>0.134965</td>\n",
              "      <td>1.280963</td>\n",
              "      <td>-0.370900</td>\n",
              "      <td>0.681221</td>\n",
              "      <td>0.474767</td>\n",
              "    </tr>\n",
              "  </tbody>\n",
              "</table>\n",
              "</div>\n",
              "      <button class=\"colab-df-convert\" onclick=\"convertToInteractive('df-9333637f-0535-4380-9a21-f3f833236ae6')\"\n",
              "              title=\"Convert this dataframe to an interactive table.\"\n",
              "              style=\"display:none;\">\n",
              "        \n",
              "  <svg xmlns=\"http://www.w3.org/2000/svg\" height=\"24px\"viewBox=\"0 0 24 24\"\n",
              "       width=\"24px\">\n",
              "    <path d=\"M0 0h24v24H0V0z\" fill=\"none\"/>\n",
              "    <path d=\"M18.56 5.44l.94 2.06.94-2.06 2.06-.94-2.06-.94-.94-2.06-.94 2.06-2.06.94zm-11 1L8.5 8.5l.94-2.06 2.06-.94-2.06-.94L8.5 2.5l-.94 2.06-2.06.94zm10 10l.94 2.06.94-2.06 2.06-.94-2.06-.94-.94-2.06-.94 2.06-2.06.94z\"/><path d=\"M17.41 7.96l-1.37-1.37c-.4-.4-.92-.59-1.43-.59-.52 0-1.04.2-1.43.59L10.3 9.45l-7.72 7.72c-.78.78-.78 2.05 0 2.83L4 21.41c.39.39.9.59 1.41.59.51 0 1.02-.2 1.41-.59l7.78-7.78 2.81-2.81c.8-.78.8-2.07 0-2.86zM5.41 20L4 18.59l7.72-7.72 1.47 1.35L5.41 20z\"/>\n",
              "  </svg>\n",
              "      </button>\n",
              "      \n",
              "  <style>\n",
              "    .colab-df-container {\n",
              "      display:flex;\n",
              "      flex-wrap:wrap;\n",
              "      gap: 12px;\n",
              "    }\n",
              "\n",
              "    .colab-df-convert {\n",
              "      background-color: #E8F0FE;\n",
              "      border: none;\n",
              "      border-radius: 50%;\n",
              "      cursor: pointer;\n",
              "      display: none;\n",
              "      fill: #1967D2;\n",
              "      height: 32px;\n",
              "      padding: 0 0 0 0;\n",
              "      width: 32px;\n",
              "    }\n",
              "\n",
              "    .colab-df-convert:hover {\n",
              "      background-color: #E2EBFA;\n",
              "      box-shadow: 0px 1px 2px rgba(60, 64, 67, 0.3), 0px 1px 3px 1px rgba(60, 64, 67, 0.15);\n",
              "      fill: #174EA6;\n",
              "    }\n",
              "\n",
              "    [theme=dark] .colab-df-convert {\n",
              "      background-color: #3B4455;\n",
              "      fill: #D2E3FC;\n",
              "    }\n",
              "\n",
              "    [theme=dark] .colab-df-convert:hover {\n",
              "      background-color: #434B5C;\n",
              "      box-shadow: 0px 1px 3px 1px rgba(0, 0, 0, 0.15);\n",
              "      filter: drop-shadow(0px 1px 2px rgba(0, 0, 0, 0.3));\n",
              "      fill: #FFFFFF;\n",
              "    }\n",
              "  </style>\n",
              "\n",
              "      <script>\n",
              "        const buttonEl =\n",
              "          document.querySelector('#df-9333637f-0535-4380-9a21-f3f833236ae6 button.colab-df-convert');\n",
              "        buttonEl.style.display =\n",
              "          google.colab.kernel.accessAllowed ? 'block' : 'none';\n",
              "\n",
              "        async function convertToInteractive(key) {\n",
              "          const element = document.querySelector('#df-9333637f-0535-4380-9a21-f3f833236ae6');\n",
              "          const dataTable =\n",
              "            await google.colab.kernel.invokeFunction('convertToInteractive',\n",
              "                                                     [key], {});\n",
              "          if (!dataTable) return;\n",
              "\n",
              "          const docLinkHtml = 'Like what you see? Visit the ' +\n",
              "            '<a target=\"_blank\" href=https://colab.research.google.com/notebooks/data_table.ipynb>data table notebook</a>'\n",
              "            + ' to learn more about interactive tables.';\n",
              "          element.innerHTML = '';\n",
              "          dataTable['output_type'] = 'display_data';\n",
              "          await google.colab.output.renderOutput(dataTable, element);\n",
              "          const docLink = document.createElement('div');\n",
              "          docLink.innerHTML = docLinkHtml;\n",
              "          element.appendChild(docLink);\n",
              "        }\n",
              "      </script>\n",
              "    </div>\n",
              "  </div>\n",
              "  "
            ]
          },
          "metadata": {},
          "execution_count": 11
        }
      ],
      "source": [
        "#Scaling the data and storing the output as a new dataframe\n",
        "scaler=StandardScaler()\n",
        "data_scaled=pd.DataFrame(scaler.fit_transform(Data2), columns=data.columns)\n",
        "\n",
        "data_scaled.head()"
      ]
    },
    {
      "cell_type": "code",
      "execution_count": 12,
      "id": "2f8a0baf",
      "metadata": {
        "id": "2f8a0baf"
      },
      "outputs": [],
      "source": [
        "#Creating copy of the data to store labels from each algorithm\n",
        "data_scaled_copy = data_scaled.copy(deep=True)"
      ]
    },
    {
      "cell_type": "markdown",
      "id": "2d18ac04",
      "metadata": {
        "id": "2d18ac04"
      },
      "source": [
        "# Principal Component Analysis"
      ]
    },
    {
      "cell_type": "code",
      "execution_count": 13,
      "id": "9be52b7f",
      "metadata": {
        "id": "9be52b7f",
        "colab": {
          "base_uri": "https://localhost:8080/"
        },
        "outputId": "825ae83b-ff5e-4ba3-d98c-34f972916ae5"
      },
      "outputs": [
        {
          "output_type": "stream",
          "name": "stdout",
          "text": [
            "(19903, 9)\n"
          ]
        }
      ],
      "source": [
        "#Defining the number of principal components to generate \n",
        "n=data_scaled.shape[1] \n",
        "\n",
        "print(data_scaled.shape) # We could come up with 20 components (Too many lol)\n",
        "\n",
        "#Finding principal components for the data\n",
        "\n",
        "pca = PCA(n_components=n, random_state=1)\n",
        "\n",
        "data_pca1 = pd.DataFrame(pca.fit_transform(data_scaled))\n",
        "\n",
        "#The percentage of variance explained by each principal component\n",
        "exp_var = pca.explained_variance_ratio_\n",
        "\n"
      ]
    },
    {
      "cell_type": "code",
      "execution_count": 14,
      "id": "b98f8347",
      "metadata": {
        "id": "b98f8347",
        "colab": {
          "base_uri": "https://localhost:8080/",
          "height": 638
        },
        "outputId": "827a0e1f-96ff-4c43-add5-c29060cc6e61"
      },
      "outputs": [
        {
          "output_type": "execute_result",
          "data": {
            "text/plain": [
              "Text(0, 0.5, 'Cumulative Explained Variance')"
            ]
          },
          "metadata": {},
          "execution_count": 14
        },
        {
          "output_type": "display_data",
          "data": {
            "text/plain": [
              "<Figure size 720x720 with 1 Axes>"
            ],
            "image/png": "[encoded data removed]"
          },
          "metadata": {
            "needs_background": "light"
          }
        }
      ],
      "source": [
        "# visualize the Explained Individual Components\n",
        "plt.figure(figsize = (10,10))\n",
        "plt.plot(range(1,10), pca.explained_variance_ratio_.cumsum(), marker = 'o', linestyle = '--')\n",
        "plt.title(\"Explained Variances by Components\")\n",
        "plt.xlabel(\"Number of Components\")\n",
        "plt.ylabel(\"Cumulative Explained Variance\")"
      ]
    },
    {
      "cell_type": "code",
      "execution_count": 15,
      "id": "d78c8ef1",
      "metadata": {
        "id": "d78c8ef1",
        "colab": {
          "base_uri": "https://localhost:8080/"
        },
        "outputId": "4983e48b-51b1-4681-fd47-a27f55a06582"
      },
      "outputs": [
        {
          "output_type": "stream",
          "name": "stdout",
          "text": [
            "0 0.40082228760086774\n",
            "1 0.23829334707921151\n",
            "2 0.11077965045438229\n",
            "Number of PCs that explain at least 70% variance:  3\n"
          ]
        }
      ],
      "source": [
        "# find the least number of components that can explain more than 70% variance\n",
        "sum = 0\n",
        "for ix, i in enumerate(exp_var): #enumerate is giving us a list (usually want ix)\n",
        "  print(ix,i)\n",
        "  sum = sum + i\n",
        "  if(sum>0.70):\n",
        "    print(\"Number of PCs that explain at least 70% variance: \", ix+1)\n",
        "    break"
      ]
    },
    {
      "cell_type": "code",
      "execution_count": 16,
      "id": "4e814f0a",
      "metadata": {
        "id": "4e814f0a",
        "colab": {
          "base_uri": "https://localhost:8080/",
          "height": 332
        },
        "outputId": "fbd8d6a4-e924-4535-c1a9-8153be532cbb"
      },
      "outputs": [
        {
          "output_type": "execute_result",
          "data": {
            "text/plain": [
              "           PC1   PC2   PC3\n",
              "LOWPMPY   0.49  0.01  0.03\n",
              "HIGHPMPY  0.51  0.03 -0.01\n",
              "pl       -0.04  0.49  0.08\n",
              "amount    0.03  0.09  0.91\n",
              "PMPY      0.50  0.08 -0.02\n",
              "PCPY      0.48 -0.02  0.03\n",
              "Duration  0.13  0.07 -0.37\n",
              "mMaxPL.y -0.04  0.62 -0.04\n",
              "HighRisk -0.03  0.60 -0.11"
            ],
            "text/html": [
              "\n",
              "  <div id=\"df-6dbda7a9-d0ff-4d5f-8adc-4821a4478c9f\">\n",
              "    <div class=\"colab-df-container\">\n",
              "      <div>\n",
              "<style scoped>\n",
              "    .dataframe tbody tr th:only-of-type {\n",
              "        vertical-align: middle;\n",
              "    }\n",
              "\n",
              "    .dataframe tbody tr th {\n",
              "        vertical-align: top;\n",
              "    }\n",
              "\n",
              "    .dataframe thead th {\n",
              "        text-align: right;\n",
              "    }\n",
              "</style>\n",
              "<table border=\"1\" class=\"dataframe\">\n",
              "  <thead>\n",
              "    <tr style=\"text-align: right;\">\n",
              "      <th></th>\n",
              "      <th>PC1</th>\n",
              "      <th>PC2</th>\n",
              "      <th>PC3</th>\n",
              "    </tr>\n",
              "  </thead>\n",
              "  <tbody>\n",
              "    <tr>\n",
              "      <th>LOWPMPY</th>\n",
              "      <td>0.49</td>\n",
              "      <td>0.01</td>\n",
              "      <td>0.03</td>\n",
              "    </tr>\n",
              "    <tr>\n",
              "      <th>HIGHPMPY</th>\n",
              "      <td>0.51</td>\n",
              "      <td>0.03</td>\n",
              "      <td>-0.01</td>\n",
              "    </tr>\n",
              "    <tr>\n",
              "      <th>pl</th>\n",
              "      <td>-0.04</td>\n",
              "      <td>0.49</td>\n",
              "      <td>0.08</td>\n",
              "    </tr>\n",
              "    <tr>\n",
              "      <th>amount</th>\n",
              "      <td>0.03</td>\n",
              "      <td>0.09</td>\n",
              "      <td>0.91</td>\n",
              "    </tr>\n",
              "    <tr>\n",
              "      <th>PMPY</th>\n",
              "      <td>0.50</td>\n",
              "      <td>0.08</td>\n",
              "      <td>-0.02</td>\n",
              "    </tr>\n",
              "    <tr>\n",
              "      <th>PCPY</th>\n",
              "      <td>0.48</td>\n",
              "      <td>-0.02</td>\n",
              "      <td>0.03</td>\n",
              "    </tr>\n",
              "    <tr>\n",
              "      <th>Duration</th>\n",
              "      <td>0.13</td>\n",
              "      <td>0.07</td>\n",
              "      <td>-0.37</td>\n",
              "    </tr>\n",
              "    <tr>\n",
              "      <th>mMaxPL.y</th>\n",
              "      <td>-0.04</td>\n",
              "      <td>0.62</td>\n",
              "      <td>-0.04</td>\n",
              "    </tr>\n",
              "    <tr>\n",
              "      <th>HighRisk</th>\n",
              "      <td>-0.03</td>\n",
              "      <td>0.60</td>\n",
              "      <td>-0.11</td>\n",
              "    </tr>\n",
              "  </tbody>\n",
              "</table>\n",
              "</div>\n",
              "      <button class=\"colab-df-convert\" onclick=\"convertToInteractive('df-6dbda7a9-d0ff-4d5f-8adc-4821a4478c9f')\"\n",
              "              title=\"Convert this dataframe to an interactive table.\"\n",
              "              style=\"display:none;\">\n",
              "        \n",
              "  <svg xmlns=\"http://www.w3.org/2000/svg\" height=\"24px\"viewBox=\"0 0 24 24\"\n",
              "       width=\"24px\">\n",
              "    <path d=\"M0 0h24v24H0V0z\" fill=\"none\"/>\n",
              "    <path d=\"M18.56 5.44l.94 2.06.94-2.06 2.06-.94-2.06-.94-.94-2.06-.94 2.06-2.06.94zm-11 1L8.5 8.5l.94-2.06 2.06-.94-2.06-.94L8.5 2.5l-.94 2.06-2.06.94zm10 10l.94 2.06.94-2.06 2.06-.94-2.06-.94-.94-2.06-.94 2.06-2.06.94z\"/><path d=\"M17.41 7.96l-1.37-1.37c-.4-.4-.92-.59-1.43-.59-.52 0-1.04.2-1.43.59L10.3 9.45l-7.72 7.72c-.78.78-.78 2.05 0 2.83L4 21.41c.39.39.9.59 1.41.59.51 0 1.02-.2 1.41-.59l7.78-7.78 2.81-2.81c.8-.78.8-2.07 0-2.86zM5.41 20L4 18.59l7.72-7.72 1.47 1.35L5.41 20z\"/>\n",
              "  </svg>\n",
              "      </button>\n",
              "      \n",
              "  <style>\n",
              "    .colab-df-container {\n",
              "      display:flex;\n",
              "      flex-wrap:wrap;\n",
              "      gap: 12px;\n",
              "    }\n",
              "\n",
              "    .colab-df-convert {\n",
              "      background-color: #E8F0FE;\n",
              "      border: none;\n",
              "      border-radius: 50%;\n",
              "      cursor: pointer;\n",
              "      display: none;\n",
              "      fill: #1967D2;\n",
              "      height: 32px;\n",
              "      padding: 0 0 0 0;\n",
              "      width: 32px;\n",
              "    }\n",
              "\n",
              "    .colab-df-convert:hover {\n",
              "      background-color: #E2EBFA;\n",
              "      box-shadow: 0px 1px 2px rgba(60, 64, 67, 0.3), 0px 1px 3px 1px rgba(60, 64, 67, 0.15);\n",
              "      fill: #174EA6;\n",
              "    }\n",
              "\n",
              "    [theme=dark] .colab-df-convert {\n",
              "      background-color: #3B4455;\n",
              "      fill: #D2E3FC;\n",
              "    }\n",
              "\n",
              "    [theme=dark] .colab-df-convert:hover {\n",
              "      background-color: #434B5C;\n",
              "      box-shadow: 0px 1px 3px 1px rgba(0, 0, 0, 0.15);\n",
              "      filter: drop-shadow(0px 1px 2px rgba(0, 0, 0, 0.3));\n",
              "      fill: #FFFFFF;\n",
              "    }\n",
              "  </style>\n",
              "\n",
              "      <script>\n",
              "        const buttonEl =\n",
              "          document.querySelector('#df-6dbda7a9-d0ff-4d5f-8adc-4821a4478c9f button.colab-df-convert');\n",
              "        buttonEl.style.display =\n",
              "          google.colab.kernel.accessAllowed ? 'block' : 'none';\n",
              "\n",
              "        async function convertToInteractive(key) {\n",
              "          const element = document.querySelector('#df-6dbda7a9-d0ff-4d5f-8adc-4821a4478c9f');\n",
              "          const dataTable =\n",
              "            await google.colab.kernel.invokeFunction('convertToInteractive',\n",
              "                                                     [key], {});\n",
              "          if (!dataTable) return;\n",
              "\n",
              "          const docLinkHtml = 'Like what you see? Visit the ' +\n",
              "            '<a target=\"_blank\" href=https://colab.research.google.com/notebooks/data_table.ipynb>data table notebook</a>'\n",
              "            + ' to learn more about interactive tables.';\n",
              "          element.innerHTML = '';\n",
              "          dataTable['output_type'] = 'display_data';\n",
              "          await google.colab.output.renderOutput(dataTable, element);\n",
              "          const docLink = document.createElement('div');\n",
              "          docLink.innerHTML = docLinkHtml;\n",
              "          element.appendChild(docLink);\n",
              "        }\n",
              "      </script>\n",
              "    </div>\n",
              "  </div>\n",
              "  "
            ]
          },
          "metadata": {},
          "execution_count": 16
        }
      ],
      "source": [
        "pc_comps = ['PC1','PC2','PC3']\n",
        "data_pca = pd.DataFrame(np.round(pca.components_[:3,:],2),index=pc_comps,columns=data_scaled.columns)\n",
        "data_pca.T # you basically just want one or two of the factors to explain most variance of sinlge variables"
      ]
    },
    {
      "cell_type": "code",
      "execution_count": 17,
      "id": "5eff7f64",
      "metadata": {
        "scrolled": true,
        "id": "5eff7f64",
        "colab": {
          "base_uri": "https://localhost:8080/",
          "height": 332
        },
        "outputId": "43f35de9-df6a-456b-c63b-5d7eaacb72e9"
      },
      "outputs": [
        {
          "output_type": "execute_result",
          "data": {
            "text/plain": [
              "<pandas.io.formats.style.Styler at 0x7f9d5dae76d0>"
            ],
            "text/html": [
              "<style type=\"text/css\">\n",
              "#T_f1a1e_row0_col0, #T_f1a1e_row1_col0, #T_f1a1e_row2_col1, #T_f1a1e_row3_col2, #T_f1a1e_row4_col0, #T_f1a1e_row5_col0, #T_f1a1e_row7_col1, #T_f1a1e_row8_col1 {\n",
              "  background: skyblue;\n",
              "}\n",
              "#T_f1a1e_row6_col2 {\n",
              "  background: pink;\n",
              "}\n",
              "</style>\n",
              "<table id=\"T_f1a1e_\" class=\"dataframe\">\n",
              "  <thead>\n",
              "    <tr>\n",
              "      <th class=\"blank level0\" >&nbsp;</th>\n",
              "      <th class=\"col_heading level0 col0\" >PC1</th>\n",
              "      <th class=\"col_heading level0 col1\" >PC2</th>\n",
              "      <th class=\"col_heading level0 col2\" >PC3</th>\n",
              "    </tr>\n",
              "  </thead>\n",
              "  <tbody>\n",
              "    <tr>\n",
              "      <th id=\"T_f1a1e_level0_row0\" class=\"row_heading level0 row0\" >LOWPMPY</th>\n",
              "      <td id=\"T_f1a1e_row0_col0\" class=\"data row0 col0\" >0.490000</td>\n",
              "      <td id=\"T_f1a1e_row0_col1\" class=\"data row0 col1\" >0.010000</td>\n",
              "      <td id=\"T_f1a1e_row0_col2\" class=\"data row0 col2\" >0.030000</td>\n",
              "    </tr>\n",
              "    <tr>\n",
              "      <th id=\"T_f1a1e_level0_row1\" class=\"row_heading level0 row1\" >HIGHPMPY</th>\n",
              "      <td id=\"T_f1a1e_row1_col0\" class=\"data row1 col0\" >0.510000</td>\n",
              "      <td id=\"T_f1a1e_row1_col1\" class=\"data row1 col1\" >0.030000</td>\n",
              "      <td id=\"T_f1a1e_row1_col2\" class=\"data row1 col2\" >-0.010000</td>\n",
              "    </tr>\n",
              "    <tr>\n",
              "      <th id=\"T_f1a1e_level0_row2\" class=\"row_heading level0 row2\" >pl</th>\n",
              "      <td id=\"T_f1a1e_row2_col0\" class=\"data row2 col0\" >-0.040000</td>\n",
              "      <td id=\"T_f1a1e_row2_col1\" class=\"data row2 col1\" >0.490000</td>\n",
              "      <td id=\"T_f1a1e_row2_col2\" class=\"data row2 col2\" >0.080000</td>\n",
              "    </tr>\n",
              "    <tr>\n",
              "      <th id=\"T_f1a1e_level0_row3\" class=\"row_heading level0 row3\" >amount</th>\n",
              "      <td id=\"T_f1a1e_row3_col0\" class=\"data row3 col0\" >0.030000</td>\n",
              "      <td id=\"T_f1a1e_row3_col1\" class=\"data row3 col1\" >0.090000</td>\n",
              "      <td id=\"T_f1a1e_row3_col2\" class=\"data row3 col2\" >0.910000</td>\n",
              "    </tr>\n",
              "    <tr>\n",
              "      <th id=\"T_f1a1e_level0_row4\" class=\"row_heading level0 row4\" >PMPY</th>\n",
              "      <td id=\"T_f1a1e_row4_col0\" class=\"data row4 col0\" >0.500000</td>\n",
              "      <td id=\"T_f1a1e_row4_col1\" class=\"data row4 col1\" >0.080000</td>\n",
              "      <td id=\"T_f1a1e_row4_col2\" class=\"data row4 col2\" >-0.020000</td>\n",
              "    </tr>\n",
              "    <tr>\n",
              "      <th id=\"T_f1a1e_level0_row5\" class=\"row_heading level0 row5\" >PCPY</th>\n",
              "      <td id=\"T_f1a1e_row5_col0\" class=\"data row5 col0\" >0.480000</td>\n",
              "      <td id=\"T_f1a1e_row5_col1\" class=\"data row5 col1\" >-0.020000</td>\n",
              "      <td id=\"T_f1a1e_row5_col2\" class=\"data row5 col2\" >0.030000</td>\n",
              "    </tr>\n",
              "    <tr>\n",
              "      <th id=\"T_f1a1e_level0_row6\" class=\"row_heading level0 row6\" >Duration</th>\n",
              "      <td id=\"T_f1a1e_row6_col0\" class=\"data row6 col0\" >0.130000</td>\n",
              "      <td id=\"T_f1a1e_row6_col1\" class=\"data row6 col1\" >0.070000</td>\n",
              "      <td id=\"T_f1a1e_row6_col2\" class=\"data row6 col2\" >-0.370000</td>\n",
              "    </tr>\n",
              "    <tr>\n",
              "      <th id=\"T_f1a1e_level0_row7\" class=\"row_heading level0 row7\" >mMaxPL.y</th>\n",
              "      <td id=\"T_f1a1e_row7_col0\" class=\"data row7 col0\" >-0.040000</td>\n",
              "      <td id=\"T_f1a1e_row7_col1\" class=\"data row7 col1\" >0.620000</td>\n",
              "      <td id=\"T_f1a1e_row7_col2\" class=\"data row7 col2\" >-0.040000</td>\n",
              "    </tr>\n",
              "    <tr>\n",
              "      <th id=\"T_f1a1e_level0_row8\" class=\"row_heading level0 row8\" >HighRisk</th>\n",
              "      <td id=\"T_f1a1e_row8_col0\" class=\"data row8 col0\" >-0.030000</td>\n",
              "      <td id=\"T_f1a1e_row8_col1\" class=\"data row8 col1\" >0.600000</td>\n",
              "      <td id=\"T_f1a1e_row8_col2\" class=\"data row8 col2\" >-0.110000</td>\n",
              "    </tr>\n",
              "  </tbody>\n",
              "</table>\n"
            ]
          },
          "metadata": {},
          "execution_count": 17
        }
      ],
      "source": [
        "def color_high(val):\n",
        "    if val <-0.25: # you can decide any value as per your understanding\n",
        "        return 'background: pink'\n",
        "    elif val >0.25:\n",
        "        return 'background: skyblue'   \n",
        "    \n",
        "data_pca.T.style.applymap(color_high)"
      ]
    },
    {
      "cell_type": "markdown",
      "id": "a34d210c",
      "metadata": {
        "id": "a34d210c"
      },
      "source": [
        "PC1 seems to related to subsets that have higher overall costs across the board. LOWPMPY & HIGHPMPY are high, average PMPY is high, and PCPY is high. \n",
        "\n",
        "PC2 seems to relate to subsets that have a high severity of cases. High PL's which in turn would mean higher mMaxPL, and in turn more HighRisk individuals.\n",
        "\n",
        "PC3 seems to relate to inidviduals who have expensive procedures, but do not deal with that ailment for long. This is probably things like emergency room visits for accidents."
      ]
    },
    {
      "cell_type": "code",
      "execution_count": 18,
      "id": "4f5c05ba",
      "metadata": {
        "id": "4f5c05ba",
        "colab": {
          "base_uri": "https://localhost:8080/",
          "height": 459
        },
        "outputId": "8452a2a9-5cf9-4b21-92be-8e97d2c67395"
      },
      "outputs": [
        {
          "output_type": "execute_result",
          "data": {
            "text/plain": [
              "Text(0, 0.5, 'PC2')"
            ]
          },
          "metadata": {},
          "execution_count": 18
        },
        {
          "output_type": "display_data",
          "data": {
            "text/plain": [
              "<Figure size 504x504 with 1 Axes>"
            ],
            "image/png": "[encoded data removed]"
          },
          "metadata": {
            "needs_background": "light"
          }
        }
      ],
      "source": [
        "plt.figure(figsize = (7,7))\n",
        "sns.scatterplot(x=data_pca1[0],y=data_pca1[1])\n",
        "plt.xlabel(\"PC1\")\n",
        "plt.ylabel(\"PC2\") # Ideally we want clusters of data points"
      ]
    },
    {
      "cell_type": "markdown",
      "id": "316bcb65",
      "metadata": {
        "id": "316bcb65"
      },
      "source": [
        "We can see from this clustering graph that our subsets do appear denoted by the vertical breaks. The horizontal break is probably from varying level of procedures as that is the main factor in PC2."
      ]
    },
    {
      "cell_type": "markdown",
      "id": "943ed0be",
      "metadata": {
        "id": "943ed0be"
      },
      "source": [
        "# TSNE"
      ]
    },
    {
      "cell_type": "code",
      "execution_count": 19,
      "id": "c8912cf4",
      "metadata": {
        "id": "c8912cf4",
        "colab": {
          "base_uri": "https://localhost:8080/",
          "height": 345
        },
        "outputId": "f6ee21ba-3a26-4e0b-e70d-b1181d01f607"
      },
      "outputs": [
        {
          "output_type": "error",
          "ename": "KeyboardInterrupt",
          "evalue": "ignored",
          "traceback": [
            "\u001b[0;31m---------------------------------------------------------------------------\u001b[0m",
            "\u001b[0;31mKeyboardInterrupt\u001b[0m                         Traceback (most recent call last)",
            "\u001b[0;32m<ipython-input-19-2ddba5822260>\u001b[0m in \u001b[0;36m<module>\u001b[0;34m()\u001b[0m\n\u001b[1;32m      1\u001b[0m \u001b[0;31m#Fitting TSNE with number of components equal to 3\u001b[0m\u001b[0;34m\u001b[0m\u001b[0;34m\u001b[0m\u001b[0;34m\u001b[0m\u001b[0m\n\u001b[1;32m      2\u001b[0m \u001b[0mtsne\u001b[0m \u001b[0;34m=\u001b[0m \u001b[0mTSNE\u001b[0m\u001b[0;34m(\u001b[0m\u001b[0mn_components\u001b[0m \u001b[0;34m=\u001b[0m \u001b[0;36m3\u001b[0m\u001b[0;34m,\u001b[0m \u001b[0mrandom_state\u001b[0m\u001b[0;34m=\u001b[0m\u001b[0;36m1\u001b[0m\u001b[0;34m)\u001b[0m\u001b[0;34m\u001b[0m\u001b[0;34m\u001b[0m\u001b[0m\n\u001b[0;32m----> 3\u001b[0;31m \u001b[0mdata_tsne\u001b[0m \u001b[0;34m=\u001b[0m \u001b[0mtsne\u001b[0m\u001b[0;34m.\u001b[0m\u001b[0mfit_transform\u001b[0m\u001b[0;34m(\u001b[0m\u001b[0mdata_scaled\u001b[0m\u001b[0;34m)\u001b[0m\u001b[0;34m\u001b[0m\u001b[0;34m\u001b[0m\u001b[0m\n\u001b[0m",
            "\u001b[0;32m/usr/local/lib/python3.7/dist-packages/sklearn/manifold/_t_sne.py\u001b[0m in \u001b[0;36mfit_transform\u001b[0;34m(self, X, y)\u001b[0m\n\u001b[1;32m   1106\u001b[0m             \u001b[0mEmbedding\u001b[0m \u001b[0mof\u001b[0m \u001b[0mthe\u001b[0m \u001b[0mtraining\u001b[0m \u001b[0mdata\u001b[0m \u001b[0;32min\u001b[0m \u001b[0mlow\u001b[0m\u001b[0;34m-\u001b[0m\u001b[0mdimensional\u001b[0m \u001b[0mspace\u001b[0m\u001b[0;34m.\u001b[0m\u001b[0;34m\u001b[0m\u001b[0;34m\u001b[0m\u001b[0m\n\u001b[1;32m   1107\u001b[0m         \"\"\"\n\u001b[0;32m-> 1108\u001b[0;31m         \u001b[0membedding\u001b[0m \u001b[0;34m=\u001b[0m \u001b[0mself\u001b[0m\u001b[0;34m.\u001b[0m\u001b[0m_fit\u001b[0m\u001b[0;34m(\u001b[0m\u001b[0mX\u001b[0m\u001b[0;34m)\u001b[0m\u001b[0;34m\u001b[0m\u001b[0;34m\u001b[0m\u001b[0m\n\u001b[0m\u001b[1;32m   1109\u001b[0m         \u001b[0mself\u001b[0m\u001b[0;34m.\u001b[0m\u001b[0membedding_\u001b[0m \u001b[0;34m=\u001b[0m \u001b[0membedding\u001b[0m\u001b[0;34m\u001b[0m\u001b[0;34m\u001b[0m\u001b[0m\n\u001b[1;32m   1110\u001b[0m         \u001b[0;32mreturn\u001b[0m \u001b[0mself\u001b[0m\u001b[0;34m.\u001b[0m\u001b[0membedding_\u001b[0m\u001b[0;34m\u001b[0m\u001b[0;34m\u001b[0m\u001b[0m\n",
            "\u001b[0;32m/usr/local/lib/python3.7/dist-packages/sklearn/manifold/_t_sne.py\u001b[0m in \u001b[0;36m_fit\u001b[0;34m(self, X, skip_num_points)\u001b[0m\n\u001b[1;32m   1008\u001b[0m             \u001b[0mX_embedded\u001b[0m\u001b[0;34m=\u001b[0m\u001b[0mX_embedded\u001b[0m\u001b[0;34m,\u001b[0m\u001b[0;34m\u001b[0m\u001b[0;34m\u001b[0m\u001b[0m\n\u001b[1;32m   1009\u001b[0m             \u001b[0mneighbors\u001b[0m\u001b[0;34m=\u001b[0m\u001b[0mneighbors_nn\u001b[0m\u001b[0;34m,\u001b[0m\u001b[0;34m\u001b[0m\u001b[0;34m\u001b[0m\u001b[0m\n\u001b[0;32m-> 1010\u001b[0;31m             \u001b[0mskip_num_points\u001b[0m\u001b[0;34m=\u001b[0m\u001b[0mskip_num_points\u001b[0m\u001b[0;34m,\u001b[0m\u001b[0;34m\u001b[0m\u001b[0;34m\u001b[0m\u001b[0m\n\u001b[0m\u001b[1;32m   1011\u001b[0m         )\n\u001b[1;32m   1012\u001b[0m \u001b[0;34m\u001b[0m\u001b[0m\n",
            "\u001b[0;32m/usr/local/lib/python3.7/dist-packages/sklearn/manifold/_t_sne.py\u001b[0m in \u001b[0;36m_tsne\u001b[0;34m(self, P, degrees_of_freedom, n_samples, X_embedded, neighbors, skip_num_points)\u001b[0m\n\u001b[1;32m   1070\u001b[0m             \u001b[0mopt_args\u001b[0m\u001b[0;34m[\u001b[0m\u001b[0;34m\"momentum\"\u001b[0m\u001b[0;34m]\u001b[0m \u001b[0;34m=\u001b[0m \u001b[0;36m0.8\u001b[0m\u001b[0;34m\u001b[0m\u001b[0;34m\u001b[0m\u001b[0m\n\u001b[1;32m   1071\u001b[0m             \u001b[0mopt_args\u001b[0m\u001b[0;34m[\u001b[0m\u001b[0;34m\"n_iter_without_progress\"\u001b[0m\u001b[0;34m]\u001b[0m \u001b[0;34m=\u001b[0m \u001b[0mself\u001b[0m\u001b[0;34m.\u001b[0m\u001b[0mn_iter_without_progress\u001b[0m\u001b[0;34m\u001b[0m\u001b[0;34m\u001b[0m\u001b[0m\n\u001b[0;32m-> 1072\u001b[0;31m             \u001b[0mparams\u001b[0m\u001b[0;34m,\u001b[0m \u001b[0mkl_divergence\u001b[0m\u001b[0;34m,\u001b[0m \u001b[0mit\u001b[0m \u001b[0;34m=\u001b[0m \u001b[0m_gradient_descent\u001b[0m\u001b[0;34m(\u001b[0m\u001b[0mobj_func\u001b[0m\u001b[0;34m,\u001b[0m \u001b[0mparams\u001b[0m\u001b[0;34m,\u001b[0m \u001b[0;34m**\u001b[0m\u001b[0mopt_args\u001b[0m\u001b[0;34m)\u001b[0m\u001b[0;34m\u001b[0m\u001b[0;34m\u001b[0m\u001b[0m\n\u001b[0m\u001b[1;32m   1073\u001b[0m \u001b[0;34m\u001b[0m\u001b[0m\n\u001b[1;32m   1074\u001b[0m         \u001b[0;31m# Save the final number of iterations\u001b[0m\u001b[0;34m\u001b[0m\u001b[0;34m\u001b[0m\u001b[0;34m\u001b[0m\u001b[0m\n",
            "\u001b[0;32m/usr/local/lib/python3.7/dist-packages/sklearn/manifold/_t_sne.py\u001b[0m in \u001b[0;36m_gradient_descent\u001b[0;34m(objective, p0, it, n_iter, n_iter_check, n_iter_without_progress, momentum, learning_rate, min_gain, min_grad_norm, verbose, args, kwargs)\u001b[0m\n\u001b[1;32m    396\u001b[0m         \u001b[0mkwargs\u001b[0m\u001b[0;34m[\u001b[0m\u001b[0;34m\"compute_error\"\u001b[0m\u001b[0;34m]\u001b[0m \u001b[0;34m=\u001b[0m \u001b[0mcheck_convergence\u001b[0m \u001b[0;32mor\u001b[0m \u001b[0mi\u001b[0m \u001b[0;34m==\u001b[0m \u001b[0mn_iter\u001b[0m \u001b[0;34m-\u001b[0m \u001b[0;36m1\u001b[0m\u001b[0;34m\u001b[0m\u001b[0;34m\u001b[0m\u001b[0m\n\u001b[1;32m    397\u001b[0m \u001b[0;34m\u001b[0m\u001b[0m\n\u001b[0;32m--> 398\u001b[0;31m         \u001b[0merror\u001b[0m\u001b[0;34m,\u001b[0m \u001b[0mgrad\u001b[0m \u001b[0;34m=\u001b[0m \u001b[0mobjective\u001b[0m\u001b[0;34m(\u001b[0m\u001b[0mp\u001b[0m\u001b[0;34m,\u001b[0m \u001b[0;34m*\u001b[0m\u001b[0margs\u001b[0m\u001b[0;34m,\u001b[0m \u001b[0;34m**\u001b[0m\u001b[0mkwargs\u001b[0m\u001b[0;34m)\u001b[0m\u001b[0;34m\u001b[0m\u001b[0;34m\u001b[0m\u001b[0m\n\u001b[0m\u001b[1;32m    399\u001b[0m         \u001b[0mgrad_norm\u001b[0m \u001b[0;34m=\u001b[0m \u001b[0mlinalg\u001b[0m\u001b[0;34m.\u001b[0m\u001b[0mnorm\u001b[0m\u001b[0;34m(\u001b[0m\u001b[0mgrad\u001b[0m\u001b[0;34m)\u001b[0m\u001b[0;34m\u001b[0m\u001b[0;34m\u001b[0m\u001b[0m\n\u001b[1;32m    400\u001b[0m \u001b[0;34m\u001b[0m\u001b[0m\n",
            "\u001b[0;32m/usr/local/lib/python3.7/dist-packages/sklearn/manifold/_t_sne.py\u001b[0m in \u001b[0;36m_kl_divergence_bh\u001b[0;34m(params, P, degrees_of_freedom, n_samples, n_components, angle, skip_num_points, verbose, compute_error, num_threads)\u001b[0m\n\u001b[1;32m    288\u001b[0m         \u001b[0mdof\u001b[0m\u001b[0;34m=\u001b[0m\u001b[0mdegrees_of_freedom\u001b[0m\u001b[0;34m,\u001b[0m\u001b[0;34m\u001b[0m\u001b[0;34m\u001b[0m\u001b[0m\n\u001b[1;32m    289\u001b[0m         \u001b[0mcompute_error\u001b[0m\u001b[0;34m=\u001b[0m\u001b[0mcompute_error\u001b[0m\u001b[0;34m,\u001b[0m\u001b[0;34m\u001b[0m\u001b[0;34m\u001b[0m\u001b[0m\n\u001b[0;32m--> 290\u001b[0;31m         \u001b[0mnum_threads\u001b[0m\u001b[0;34m=\u001b[0m\u001b[0mnum_threads\u001b[0m\u001b[0;34m,\u001b[0m\u001b[0;34m\u001b[0m\u001b[0;34m\u001b[0m\u001b[0m\n\u001b[0m\u001b[1;32m    291\u001b[0m     )\n\u001b[1;32m    292\u001b[0m     \u001b[0mc\u001b[0m \u001b[0;34m=\u001b[0m \u001b[0;36m2.0\u001b[0m \u001b[0;34m*\u001b[0m \u001b[0;34m(\u001b[0m\u001b[0mdegrees_of_freedom\u001b[0m \u001b[0;34m+\u001b[0m \u001b[0;36m1.0\u001b[0m\u001b[0;34m)\u001b[0m \u001b[0;34m/\u001b[0m \u001b[0mdegrees_of_freedom\u001b[0m\u001b[0;34m\u001b[0m\u001b[0;34m\u001b[0m\u001b[0m\n",
            "\u001b[0;31mKeyboardInterrupt\u001b[0m: "
          ]
        }
      ],
      "source": [
        "#Fitting TSNE with number of components equal to 3 \n",
        "tsne = TSNE(n_components = 3, random_state=1)\n",
        "data_tsne = tsne.fit_transform(data_scaled)"
      ]
    },
    {
      "cell_type": "code",
      "execution_count": null,
      "id": "7fc5e46b",
      "metadata": {
        "id": "7fc5e46b"
      },
      "outputs": [],
      "source": [
        "#Converting the embeddings to a dataframe\n",
        "data_tsne=pd.DataFrame(data_tsne, columns=['X1', 'X2', 'X3'])"
      ]
    },
    {
      "cell_type": "code",
      "execution_count": null,
      "id": "e9ef52f6",
      "metadata": {
        "id": "e9ef52f6"
      },
      "outputs": [],
      "source": [
        "#Scatter plot for two components\n",
        "plt.figure(figsize = (7,7))\n",
        "sns.scatterplot(x = 'X1', y='X2', hue='X3', data = data_tsne)"
      ]
    },
    {
      "cell_type": "markdown",
      "id": "26984af8",
      "metadata": {
        "id": "26984af8"
      },
      "source": [
        "Unfortunatly, no real obvious clusers come from this graph. This is proably due to the fact that insurance claims as well as medical events are extremly difficult to cluster unless you include a ton of demographic information on each of the individuals. As I am an unpaid intern, I do not get access to this type of information."
      ]
    },
    {
      "cell_type": "markdown",
      "id": "69a05bdf",
      "metadata": {
        "id": "69a05bdf"
      },
      "source": [
        "# K-Means clustering"
      ]
    },
    {
      "cell_type": "code",
      "execution_count": null,
      "id": "1c201709",
      "metadata": {
        "id": "1c201709"
      },
      "outputs": [],
      "source": [
        "#Empty dictionary to store the SSE for each value of k\n",
        "sse = {} \n",
        "\n",
        "# iterate for a range of Ks and fit the scaled data to the algorithm. Use inertia attribute from the clustering object and \n",
        "# store the inertia value for that k \n",
        "for k in range(1, 10):\n",
        "    kmeans = KMeans(n_clusters=k, random_state=1).fit(data_scaled)\n",
        "    sse[k] = kmeans.inertia_\n",
        "\n",
        "#Elbow plot\n",
        "plt.figure()\n",
        "plt.plot(list(sse.keys()), list(sse.values()), 'bx-')\n",
        "plt.xlabel(\"Number of cluster\")\n",
        "plt.ylabel(\"SSE\")\n",
        "plt.show()"
      ]
    },
    {
      "cell_type": "markdown",
      "id": "19ae191b",
      "metadata": {
        "id": "19ae191b"
      },
      "source": [
        "Nothing strange here. We do not get a sharp drop off in SSE, so we will have to use a Silhouette Score to get a better idea of the ideal number of clusters."
      ]
    },
    {
      "cell_type": "code",
      "execution_count": null,
      "id": "5791a699",
      "metadata": {
        "id": "5791a699"
      },
      "outputs": [],
      "source": [
        "#Empty dictionary to store the Silhouette score for each value of k\n",
        "sc = {} \n",
        "\n",
        "# iterate for a range of Ks and fit the scaled data to the algorithm. Store the Silhouette score for that k \n",
        "for k in range(2, 10):\n",
        "    kmeans = KMeans(n_clusters=k, random_state=1).fit(data_scaled)\n",
        "    labels = kmeans.predict(data_scaled)\n",
        "    sc[k] = silhouette_score(data_scaled, labels)\n",
        "\n",
        "#Elbow plot\n",
        "plt.figure()\n",
        "plt.plot(list(sc.keys()), list(sc.values()), 'bx-')\n",
        "plt.xlabel(\"Number of cluster\")\n",
        "plt.ylabel(\"Silhouette Score\")\n",
        "plt.show() # Want high Silhouette Score"
      ]
    },
    {
      "cell_type": "markdown",
      "id": "a920ca5a",
      "metadata": {
        "id": "a920ca5a"
      },
      "source": [
        "We see the highest score was achieved by 4 clusters, so that is how many we will continue with."
      ]
    },
    {
      "cell_type": "code",
      "execution_count": null,
      "id": "644ee51e",
      "metadata": {
        "id": "644ee51e"
      },
      "outputs": [],
      "source": [
        "kmeans = KMeans(n_clusters=4, random_state=1)\n",
        "kmeans.fit(data_scaled)\n",
        "\n",
        "#Adding predicted labels to the original data and scaled data \n",
        "data_scaled_copy['KMeans_Labels'] = kmeans.predict(data_scaled)\n",
        "Data2['KMeans_Labels'] = kmeans.predict(data_scaled)"
      ]
    },
    {
      "cell_type": "code",
      "execution_count": null,
      "id": "0ca8ab1e",
      "metadata": {
        "id": "0ca8ab1e"
      },
      "outputs": [],
      "source": [
        "Data2['KMeans_Labels'].value_counts() # Counts of countires in each cluster"
      ]
    },
    {
      "cell_type": "code",
      "execution_count": null,
      "id": "bcd18cbd",
      "metadata": {
        "scrolled": true,
        "id": "bcd18cbd"
      },
      "outputs": [],
      "source": [
        "#Calculating mean and median of the original data for each label\n",
        "mean = Data2.groupby('KMeans_Labels').mean()\n",
        "median = Data2.groupby('KMeans_Labels').median()\n",
        "df_kmeans = pd.concat([mean, median], axis=0)\n",
        "df_kmeans.index = ['group_0 Mean', 'group_1 Mean', 'group_2 Mean','group_3 Mean',\n",
        "                   'group_0 Median', 'group_1 Median', 'group_2 Median','group_3 Median']\n",
        "df_kmeans.T"
      ]
    },
    {
      "cell_type": "markdown",
      "id": "b4251664",
      "metadata": {
        "id": "b4251664"
      },
      "source": [
        "All median and means should be a little more normally distributed as they are in clusters of like-observations."
      ]
    },
    {
      "cell_type": "code",
      "execution_count": null,
      "id": "4bcaa13f",
      "metadata": {
        "id": "4bcaa13f"
      },
      "outputs": [],
      "source": [
        "cols_visualise = ['LOWPMPY','HIGHPMPY','pl','amount','PMPY','PCPY','Duration','mMaxPL.y','HighRisk']\n",
        "\n",
        "for col in cols_visualise:\n",
        "    sns.boxplot(x = 'KMeans_Labels', y = col, data = Data2)\n",
        "    plt.show()"
      ]
    },
    {
      "cell_type": "markdown",
      "id": "c130d305",
      "metadata": {
        "id": "c130d305"
      },
      "source": [
        "Quite a high LOWPMPY & HIGHPMPY for cluster two (kMeans_Lable [2].\n",
        "\n",
        "PL average and mean quite low for group 3.\n",
        "\n",
        "More outliers in 'amount' for groups 1 & 2 compared to group 3.\n",
        "\n",
        "Higher average PMPY, PCPY, for group 2.\n",
        "\n",
        "Seems to be much lower mMaxPL for group 3 than the others.\n",
        "\n",
        "I am guessing that Cluster 1 contains individuals/subsets with relatively average paths of care/claims. \n",
        "\n",
        "Cluster 2 probably is individuals/subsets that have a lower count of claims/members which tend to be more susceptible to outliers of expensive claims.  \n",
        "\n",
        "Cluster 3 probably is individuals/subsets that hare relatively 'normal' except for much lower PL's which in turn would mean lower mMaxPL's and less High-Risk individuals. "
      ]
    },
    {
      "cell_type": "markdown",
      "id": "bc00c060",
      "metadata": {
        "id": "bc00c060"
      },
      "source": [
        "Do not need to pay much attention to the group_3 as is only has 4 observations in it."
      ]
    },
    {
      "cell_type": "markdown",
      "id": "7fac9038",
      "metadata": {
        "id": "7fac9038"
      },
      "source": [
        "# Hierarchical Clustering"
      ]
    },
    {
      "cell_type": "code",
      "execution_count": null,
      "id": "3e6fa970",
      "metadata": {
        "id": "3e6fa970"
      },
      "outputs": [],
      "source": [
        "from scipy.cluster.hierarchy import dendrogram, linkage"
      ]
    },
    {
      "cell_type": "markdown",
      "id": "016329a1",
      "metadata": {
        "id": "016329a1"
      },
      "source": [
        "Way too many observations for Hierarchical Clustering to really work. Take a sample of our dataset to make things easier."
      ]
    },
    {
      "cell_type": "code",
      "execution_count": null,
      "id": "d82b6fc8",
      "metadata": {
        "id": "d82b6fc8"
      },
      "outputs": [],
      "source": [
        "data_sub = data_scaled.sample(n = 150)\n",
        "# List of all linkage methods to check\n",
        "methods = ['single',\n",
        "           'average', \n",
        "           'complete']\n",
        "\n",
        "# Create a subplot image\n",
        "fig, axs = plt.subplots(len(methods), 1, figsize=(20, 15))\n",
        "\n",
        "# Enumerate through the list of all methods above, get linkage and plot dendrogram\n",
        "for i, method in enumerate(methods):\n",
        "    Z = linkage(data_sub, metric='euclidean', method=method)\n",
        "    dendrogram(Z, ax=axs[i]);\n",
        "    axs[i].set_title(f'Dendrogram ({method.capitalize()} Linkage)')\n",
        "    axs[i].set_ylabel('Distance')"
      ]
    },
    {
      "cell_type": "code",
      "execution_count": null,
      "id": "535c37b3",
      "metadata": {
        "id": "535c37b3"
      },
      "outputs": [],
      "source": [
        "plt.figure(figsize=(20, 7))  \n",
        "plt.title(\"Dendrograms\")  \n",
        "dend = dendrogram(linkage(data_sub, method='complete'))\n",
        "plt.axhline(y=4.75, color='r', linestyle='--')"
      ]
    },
    {
      "cell_type": "code",
      "execution_count": null,
      "id": "d2e510c3",
      "metadata": {
        "id": "d2e510c3"
      },
      "outputs": [],
      "source": [
        "#Clustering with number of clusters equal to 4\n",
        "hierarchical = AgglomerativeClustering(n_clusters = 4, affinity='euclidean', linkage='complete')\n",
        "hierarchical.fit(data_sub)"
      ]
    },
    {
      "cell_type": "code",
      "execution_count": null,
      "id": "be1a587e",
      "metadata": {
        "id": "be1a587e"
      },
      "outputs": [],
      "source": [
        "data_sub['HCLabels'] = hierarchical.labels_\n",
        "data_sub['HCLabels'] = hierarchical.labels_"
      ]
    },
    {
      "cell_type": "code",
      "execution_count": null,
      "id": "2b5c1012",
      "metadata": {
        "id": "2b5c1012"
      },
      "outputs": [],
      "source": [
        "data_sub.HCLabels.value_counts()"
      ]
    },
    {
      "cell_type": "code",
      "execution_count": null,
      "id": "c0613c98",
      "metadata": {
        "id": "c0613c98"
      },
      "outputs": [],
      "source": [
        "varss = ['LOWPMPY','HIGHPMPY','pl','amount','PMPY','PCPY','Duration','mMaxPL.y','HighRisk']\n",
        "\n",
        "for col in varss:\n",
        "    sns.boxplot(x = 'HCLabels', y = col, data = data_sub)\n",
        "    plt.show()"
      ]
    },
    {
      "cell_type": "markdown",
      "id": "7545699c",
      "metadata": {
        "id": "7545699c"
      },
      "source": [
        "It seems that our Hierarchical Clustering came to the same conclusing as our K-Means clustering, returning 4 clusters with the final one (HCLables[2]) being a catch-all of observations that could not be clustered into the other groups."
      ]
    },
    {
      "cell_type": "markdown",
      "id": "d4c2e489",
      "metadata": {
        "id": "d4c2e489"
      },
      "source": [
        "# Machine Learning Final Section"
      ]
    },
    {
      "cell_type": "markdown",
      "id": "b4b45848",
      "metadata": {
        "id": "b4b45848"
      },
      "source": [
        "## Linear Regression"
      ]
    },
    {
      "cell_type": "code",
      "execution_count": null,
      "id": "c1134de3",
      "metadata": {
        "id": "c1134de3"
      },
      "outputs": [],
      "source": [
        "# Reading in Data\n",
        "data = pd.read_csv('/content/drive/MyDrive/Machine_Learning/MIDTERMANACONDA.csv')\n",
        "data.head()"
      ]
    },
    {
      "cell_type": "code",
      "execution_count": null,
      "id": "c1534e3f",
      "metadata": {
        "id": "c1534e3f"
      },
      "outputs": [],
      "source": [
        "# Dropping variables not necessary for this part of the analysis\n",
        "DataReg = data.drop(['LOWPMPY','HIGHPMPY','PMPY','PCPY','Unnamed: 0', 'BRalpha', 'BRregion', 'icd10', 'cpt','date'], axis = 1)\n",
        "DataReg.head()\n",
        "\n",
        "DataReg = DataReg[DataReg.amount >= 0] \n",
        "\n",
        "DataReg.info()"
      ]
    },
    {
      "cell_type": "code",
      "execution_count": null,
      "id": "1f1221c7",
      "metadata": {
        "scrolled": true,
        "id": "1f1221c7"
      },
      "outputs": [],
      "source": [
        "#Defining response and predictor variables\n",
        "X = DataReg[['Duration','pl','amount']]\n",
        "Y = DataReg['HighRisk']\n",
        "\n",
        "# The variable of interest is already a dummy.\n",
        "\n",
        "#Scaling the data\n",
        "sc=StandardScaler()\n",
        "X_scaled=sc.fit_transform(X)\n",
        "X_scaled=pd.DataFrame(X_scaled, columns=X.columns)\n",
        "\n",
        "# Performing Test-Train Split\n",
        "X_train,X_test,Y_train,Y_test = train_test_split(X_scaled,Y,test_size=0.3,random_state=0)\n",
        "\n",
        "#creating metric function \n",
        "def metrics_score(actual, predicted):\n",
        "    print(classification_report(actual, predicted))\n",
        "    cm = confusion_matrix(actual, predicted)\n",
        "    plt.figure(figsize=(8,5))\n",
        "    sns.heatmap(cm, annot=True,  fmt='.2f', xticklabels=['LowRisk', 'HighRisk'], yticklabels=['LowRisk', 'HighRisk'])\n",
        "    plt.ylabel('Actual')\n",
        "    plt.xlabel('Predicted')\n",
        "    plt.show()\n",
        "\n",
        "log_regression = LogisticRegression()\n",
        "\n",
        "#fit the model using the training data\n",
        "log_regression.fit(X_train,Y_train)\n",
        "\n",
        "#use model to make predictions on test data\n",
        "Y_pred = log_regression.predict(X_train)\n",
        "metrics_score(Y_train, Y_pred)\n",
        "\n",
        "#checking the performance on the test dataset\n",
        "y_pred_test = log_regression.predict(X_test)\n",
        "metrics_score(Y_test, y_pred_test)"
      ]
    },
    {
      "cell_type": "markdown",
      "id": "04676466",
      "metadata": {
        "id": "04676466"
      },
      "source": [
        "### Observations\n",
        "- Getting to about 80% accuracy in both testing and training.\n",
        "- We are also able to have a recall rate of about 90% in testing and training for HighRisk Individuals.\n",
        "- The model is probably not so accurate as it classified 759 cases as High Risk when they were low risk, but still missed 406 High Risk cases. It seems like the model is simply trying to have a higher recall than accuracy."
      ]
    },
    {
      "cell_type": "markdown",
      "id": "d8cdd30c",
      "metadata": {
        "id": "d8cdd30c"
      },
      "source": [
        "## Percision-Recall tradeoff curve"
      ]
    },
    {
      "cell_type": "code",
      "execution_count": null,
      "id": "2b58c169",
      "metadata": {
        "id": "2b58c169"
      },
      "outputs": [],
      "source": [
        "y_scores_lg=log_regression.predict_proba(X_train) #predict_proba gives the probability of each observation belonging to each class\n",
        "\n",
        "\n",
        "precisions_lg, recalls_lg, thresholds_lg = precision_recall_curve(Y_train, y_scores_lg[:,1])\n",
        "\n",
        "#Plot values of precisions, recalls, and thresholds\n",
        "plt.figure(figsize=(10,7))\n",
        "plt.plot(thresholds_lg, precisions_lg[:-1], 'b--', label='precision')\n",
        "plt.plot(thresholds_lg, recalls_lg[:-1], 'g--', label = 'recall')\n",
        "plt.xlabel('Threshold')\n",
        "plt.legend(loc='upper left')\n",
        "plt.ylim([0,1])\n",
        "plt.show()"
      ]
    },
    {
      "cell_type": "markdown",
      "id": "0377d2b6",
      "metadata": {
        "id": "0377d2b6"
      },
      "source": [
        "### Observations\n",
        "- It seems like this model is actually quite precise even when we try to maxamize recall rate.\n",
        "- Perhaps I am mistaken, this model is actually quite good."
      ]
    },
    {
      "cell_type": "markdown",
      "id": "94eba5b4",
      "metadata": {
        "id": "94eba5b4"
      },
      "source": [
        "## Decision Trees"
      ]
    },
    {
      "cell_type": "code",
      "execution_count": null,
      "id": "a295c618",
      "metadata": {
        "scrolled": true,
        "id": "a295c618"
      },
      "outputs": [],
      "source": [
        "DataTree = pd.read_csv('/content/drive/MyDrive/Machine_Learning/MIDTERMANACONDA.csv')\n",
        "DataTree = DataTree.drop(['Unnamed: 0', 'BRalpha', 'BRregion','date','icd10','pl','mMaxPL.y','cpt'], axis = 1)\n",
        "DataTree = DataTree[DataTree.amount >= 0] \n",
        "DataTree.head()"
      ]
    },
    {
      "cell_type": "markdown",
      "id": "91162061",
      "metadata": {
        "id": "91162061"
      },
      "source": [
        "- Unfortunatly we have to drop more variables as they are used to asses High vs. Low Risk, all other variabels are catagorical"
      ]
    },
    {
      "cell_type": "code",
      "execution_count": null,
      "id": "cfc70801",
      "metadata": {
        "id": "cfc70801"
      },
      "outputs": [],
      "source": [
        "labels = np.array(DataTree.pop('HighRisk'))"
      ]
    },
    {
      "cell_type": "code",
      "execution_count": null,
      "id": "9f7df35a",
      "metadata": {
        "id": "9f7df35a"
      },
      "outputs": [],
      "source": [
        "\n",
        "\n",
        "# 30% examples in test data\n",
        "train, test, train_labels, test_labels = train_test_split(DataTree, labels, \n",
        "                                                          stratify = labels, \n",
        "                                                          test_size = 0.3, \n",
        "                                                          random_state = 0)\n",
        "## Stratify means to maintain the percentage distribution of 'labels' in both test and train split\n",
        "\n",
        "# Features for feature importances\n",
        "features = list(train.columns)\n",
        "\n",
        "# Train tree\n",
        "tree = DecisionTreeClassifier(random_state=0, max_depth = 13)\n",
        "model_tree=tree.fit(train, train_labels)"
      ]
    },
    {
      "cell_type": "code",
      "execution_count": null,
      "id": "b5e3108f",
      "metadata": {
        "id": "b5e3108f"
      },
      "outputs": [],
      "source": [
        "# Train tree\n",
        "tree = DecisionTreeClassifier(random_state=0, max_depth = 13)\n",
        "\n",
        "tree.fit(train, train_labels)\n",
        "print(f'Decision tree has {tree.tree_.node_count} nodes with maximum depth {tree.tree_.max_depth}.')"
      ]
    },
    {
      "cell_type": "code",
      "execution_count": null,
      "id": "3c8139af",
      "metadata": {
        "id": "3c8139af"
      },
      "outputs": [],
      "source": [
        "# Make probability predictions\n",
        "train_probs = tree.predict_proba(train)[:, 1]\n",
        "probs = tree.predict_proba(test)[:, 1]\n",
        "\n",
        "train_predictions = tree.predict(train)\n",
        "predictions = tree.predict(test)"
      ]
    },
    {
      "cell_type": "code",
      "execution_count": null,
      "id": "3b7284a1",
      "metadata": {
        "id": "3b7284a1"
      },
      "outputs": [],
      "source": [
        "from sklearn.metrics import precision_score, recall_score, roc_auc_score, roc_curve\n",
        "\n",
        "print(f'Train ROC AUC Score: {roc_auc_score(train_labels, train_probs)}')\n",
        "print(f'Test ROC AUC  Score: {roc_auc_score(test_labels, probs)}')"
      ]
    },
    {
      "cell_type": "code",
      "execution_count": null,
      "id": "aed73b65",
      "metadata": {
        "id": "aed73b65"
      },
      "outputs": [],
      "source": [
        "def evaluate_model(predictions, probs, train_predictions, train_probs):\n",
        "    \"\"\"Compare machine learning model to baseline performance.\n",
        "    Computes statistics and shows ROC curve.\"\"\"\n",
        "    \n",
        "    baseline = {}\n",
        "    \n",
        "    baseline['recall'] = recall_score(test_labels, [1 for _ in range(len(test_labels))])\n",
        "    baseline['precision'] = precision_score(test_labels, [1 for _ in range(len(test_labels))])\n",
        "    baseline['roc'] = 0.5\n",
        "    \n",
        "    results = {}\n",
        "    \n",
        "    results['recall'] = recall_score(test_labels, predictions)\n",
        "    results['precision'] = precision_score(test_labels, predictions)\n",
        "    results['roc'] = roc_auc_score(test_labels, probs)\n",
        "    \n",
        "    train_results = {}\n",
        "    train_results['recall'] = recall_score(train_labels, train_predictions)\n",
        "    train_results['precision'] = precision_score(train_labels, train_predictions)\n",
        "    train_results['roc'] = roc_auc_score(train_labels, train_probs)\n",
        "    \n",
        "    for metric in ['recall', 'precision', 'roc']:\n",
        "        print(f'{metric.capitalize()} Baseline: {round(baseline[metric], 2)} Test: {round(results[metric], 2)} Train: {round(train_results[metric], 2)}')\n",
        "    \n",
        "    # Calculate false positive rates and true positive rates\n",
        "    base_fpr, base_tpr, _ = roc_curve(test_labels, [1 for _ in range(len(test_labels))])\n",
        "    model_fpr, model_tpr, _ = roc_curve(test_labels, probs)\n",
        "\n",
        "    plt.figure(figsize = (8, 6))\n",
        "    plt.rcParams['font.size'] = 16\n",
        "    \n",
        "    # Plot both curves\n",
        "    plt.plot(base_fpr, base_tpr, 'b', label = 'baseline')\n",
        "    plt.plot(model_fpr, model_tpr, 'r', label = 'model')\n",
        "    plt.legend();\n",
        "    plt.xlabel('False Positive Rate'); plt.ylabel('True Positive Rate'); plt.title('ROC Curves');"
      ]
    },
    {
      "cell_type": "code",
      "execution_count": null,
      "id": "60553357",
      "metadata": {
        "id": "60553357"
      },
      "outputs": [],
      "source": [
        "evaluate_model(predictions, probs, train_predictions, train_probs) \n",
        "# Recall is ability to identify all points in a relevant class\n",
        "# Preciision is the ability for a model to return only the data points in one class."
      ]
    },
    {
      "cell_type": "code",
      "execution_count": null,
      "id": "65d31079",
      "metadata": {
        "id": "65d31079"
      },
      "outputs": [],
      "source": [
        "from sklearn.metrics import confusion_matrix\n",
        "import itertools\n",
        "\n",
        "def plot_confusion_matrix(cm, classes,\n",
        "                          normalize=False,\n",
        "                          title='Confusion matrix',\n",
        "                          cmap=plt.cm.Oranges):\n",
        "    \"\"\"\n",
        "    This function prints and plots the confusion matrix.\n",
        "    Normalization can be applied by setting `normalize=True`.\n",
        "    Source: http://scikit-learn.org/stable/auto_examples/model_selection/plot_confusion_matrix.html\n",
        "    \"\"\"\n",
        "    if normalize:\n",
        "        cm = cm.astype('float') / cm.sum(axis=1)[:, np.newaxis]\n",
        "        print(\"Normalized confusion matrix\")\n",
        "    else:\n",
        "        print('Confusion matrix, without normalization')\n",
        "\n",
        "    print(cm)\n",
        "\n",
        "    plt.figure(figsize = (10, 10))\n",
        "    plt.imshow(cm, interpolation='nearest', cmap=cmap)\n",
        "    plt.title(title, size = 24)\n",
        "    plt.colorbar(aspect=4)\n",
        "    tick_marks = np.arange(len(classes))\n",
        "    plt.xticks(tick_marks, classes, rotation=45, size = 14)\n",
        "    plt.yticks(tick_marks, classes, size = 14)\n",
        "\n",
        "    fmt = '.2f' if normalize else 'd'\n",
        "    thresh = cm.max() / 2.\n",
        "    \n",
        "    # Labeling the plot\n",
        "    for i, j in itertools.product(range(cm.shape[0]), range(cm.shape[1])):\n",
        "        plt.text(j, i, format(cm[i, j], fmt), fontsize = 20,\n",
        "                 horizontalalignment=\"center\",\n",
        "                 color=\"white\" if cm[i, j] > thresh else \"black\")\n",
        "        \n",
        "    plt.grid(None)\n",
        "    plt.tight_layout()\n",
        "    plt.ylabel('True label', size = 18)\n",
        "    plt.xlabel('Predicted label', size = 18)"
      ]
    },
    {
      "cell_type": "code",
      "execution_count": null,
      "id": "465eebb2",
      "metadata": {
        "id": "465eebb2"
      },
      "outputs": [],
      "source": [
        "cm = confusion_matrix(test_labels, predictions)\n",
        "plot_confusion_matrix(cm, classes = [ 'LowRisk', 'HighRisk'],\n",
        "                      title = 'Risk Level Confusion Matrix')"
      ]
    },
    {
      "cell_type": "code",
      "execution_count": null,
      "id": "371850fa",
      "metadata": {
        "id": "371850fa"
      },
      "outputs": [],
      "source": [
        "fi = pd.DataFrame({'feature': features,\n",
        "                   'importance': tree.feature_importances_}).\\\n",
        "                    sort_values('importance', ascending = False)\n",
        "fi.head()"
      ]
    },
    {
      "cell_type": "markdown",
      "id": "ca708c3e",
      "metadata": {
        "id": "ca708c3e"
      },
      "source": [
        "- It seems like the amount charged to the insurnace company is the most important thing in determining if it was a High Risk case or Low Risk.\n",
        "- Duration was also a very key variable. The long someone is in the hospital, the more likely they are having a serious issue that would be classified as HighRisk."
      ]
    },
    {
      "cell_type": "code",
      "execution_count": null,
      "id": "b69858cc",
      "metadata": {
        "id": "b69858cc"
      },
      "outputs": [],
      "source": [
        "import subprocess\n",
        "from sklearn.tree import DecisionTreeClassifier, export_graphviz, plot_tree\n",
        "from PIL import Image\n",
        "\n",
        "fig = plt.figure(figsize=(30,25))\n",
        "plot_tree(tree, max_depth=3, feature_names = features, fontsize = 20)"
      ]
    },
    {
      "cell_type": "markdown",
      "id": "48f1a588",
      "metadata": {
        "id": "48f1a588"
      },
      "source": [
        "- With a maximum depth of 13 we end up with 1,949 nodes. Way too many to reasonably conceptualize. Next we will move onto Random Forest to see if we can get better results from a median tree."
      ]
    },
    {
      "cell_type": "markdown",
      "id": "27d9e438",
      "metadata": {
        "id": "27d9e438"
      },
      "source": [
        "## Random Forest "
      ]
    },
    {
      "cell_type": "code",
      "execution_count": null,
      "id": "4522e8f1",
      "metadata": {
        "id": "4522e8f1"
      },
      "outputs": [],
      "source": [
        "from sklearn.ensemble import RandomForestClassifier\n",
        "\n",
        "# First let's try 100 tree's and see how well that performs. This first time around we will leave the maximum depth at 13 \n",
        "# to see if any imporvements are made.\n",
        "\n",
        "treemodel100 = RandomForestClassifier(n_estimators=100, \n",
        "                               random_state=0, \n",
        "                               max_features = 'sqrt',\n",
        "                              class_weight='balanced', \n",
        "                              max_depth = 13)  # Balanced splits because want to make sure we include High and Low Risk\n",
        "                                               # persons in both training and testing splits\n",
        "\n",
        "# Fit on training data\n",
        "treemodel100.fit(train, train_labels)"
      ]
    },
    {
      "cell_type": "code",
      "execution_count": null,
      "id": "f2c9df48",
      "metadata": {
        "id": "f2c9df48"
      },
      "outputs": [],
      "source": [
        "# Checking average depth and node count to see if we made any imporvements\n",
        "n_nodes = []\n",
        "max_depths = []\n",
        "\n",
        "for ind_tree in treemodel100.estimators_:\n",
        "    n_nodes.append(ind_tree.tree_.node_count)\n",
        "    max_depths.append(ind_tree.tree_.max_depth)\n",
        "    \n",
        "print(f'Average number of nodes {int(np.mean(n_nodes))}')\n",
        "print(f'Average maximum depth {int(np.mean(max_depths))}')\n",
        "\n",
        "# slight improvements in node count.\n",
        "# Let us check some evaluations statistics to how well it performed."
      ]
    },
    {
      "cell_type": "code",
      "execution_count": null,
      "id": "af6c574d",
      "metadata": {
        "id": "af6c574d"
      },
      "outputs": [],
      "source": [
        "# Gathering stats\n",
        "train_model100_predictions = treemodel100.predict(train)\n",
        "train_model100_probs = treemodel100.predict_proba(train)[:, 1]\n",
        "\n",
        "model100_predictions = treemodel100.predict(test)\n",
        "model100_probs = treemodel100.predict_proba(test)[:, 1]"
      ]
    },
    {
      "cell_type": "code",
      "execution_count": null,
      "id": "057b9d59",
      "metadata": {
        "id": "057b9d59"
      },
      "outputs": [],
      "source": [
        "# Evaluate model and draw ROC curve\n",
        "evaluate_model(model100_predictions, model100_probs, train_model100_predictions, train_model100_probs)"
      ]
    },
    {
      "cell_type": "markdown",
      "id": "c33ffbf6",
      "metadata": {
        "id": "c33ffbf6"
      },
      "source": [
        "- Random forest with 100 trees traded some recall for precision. The single tree achieved 93% recall in testing with a percision of 84%.\n",
        "\n",
        "- Random Forest with 100 trees ended up with only 81% recall in testing, but achieved a percision of 88% in testing."
      ]
    },
    {
      "cell_type": "markdown",
      "id": "23bc9f06",
      "metadata": {
        "id": "23bc9f06"
      },
      "source": [
        "Let us look at a confusion matrix of the Random forest with 100 trees too see how the classification ended up."
      ]
    },
    {
      "cell_type": "code",
      "execution_count": null,
      "id": "ee7cdf6c",
      "metadata": {
        "id": "ee7cdf6c"
      },
      "outputs": [],
      "source": [
        "cm = confusion_matrix(test_labels, model100_predictions)\n",
        "plot_confusion_matrix(cm, classes = [ 'Low Risk', 'High Risk'],\n",
        "                      title = 'Risk Level Confusion Matrix')"
      ]
    },
    {
      "cell_type": "markdown",
      "id": "bf6e9084",
      "metadata": {
        "id": "bf6e9084"
      },
      "source": [
        "- The most interesting thing is that the model we reduced the number of times a Low Risk Claim was predicted to be a High Risk. Unfortunatly, the model also missed more High Risk claims than the single tree.\n",
        "- If the goal was to reduced the chance that we miss-classify a Low Risk case as High Risk, Random Forest performs better than Single Decision Tree.\n",
        "- If the goal was to miss as few High Risk Claims as possible, the Random Forest performs worse than Single Decision Tree.\n",
        "    - This is due to Recall and Percision being tradeoff's \n",
        "    \n",
        " Let us try 300 trees with say a depth of 9 to see if we can conceptualize the Decision tree a little better but still retain relativly good efficiency/percision"
      ]
    },
    {
      "cell_type": "markdown",
      "id": "ec1c1c0f",
      "metadata": {
        "id": "ec1c1c0f"
      },
      "source": [
        "## Random Forest with 300 trees"
      ]
    },
    {
      "cell_type": "code",
      "execution_count": null,
      "id": "df08d55f",
      "metadata": {
        "id": "df08d55f"
      },
      "outputs": [],
      "source": [
        "treemodel300 = RandomForestClassifier(n_estimators=100, \n",
        "                               random_state=0, \n",
        "                               max_features = 'sqrt',\n",
        "                              class_weight='balanced', \n",
        "                              max_depth = 9)  # Balanced splits because want to make sure we include High and Low Risk\n",
        "                                               # persons in both training and testing splits\n",
        "\n",
        "# Fit on training data\n",
        "treemodel300.fit(train, train_labels)"
      ]
    },
    {
      "cell_type": "code",
      "execution_count": null,
      "id": "c365588c",
      "metadata": {
        "id": "c365588c"
      },
      "outputs": [],
      "source": [
        "# Checking average depth and node count to see if we made any imporvements\n",
        "n_nodes = []\n",
        "max_depths = []\n",
        "\n",
        "for ind_tree in treemodel300.estimators_:\n",
        "    n_nodes.append(ind_tree.tree_.node_count)\n",
        "    max_depths.append(ind_tree.tree_.max_depth)\n",
        "    \n",
        "print(f'Average number of nodes {int(np.mean(n_nodes))}')\n",
        "print(f'Average maximum depth {int(np.mean(max_depths))}')\n",
        "\n",
        "# Much fewer nodes, hopefully accuracy metrics are still okay."
      ]
    },
    {
      "cell_type": "code",
      "execution_count": null,
      "id": "2d1d4dcf",
      "metadata": {
        "id": "2d1d4dcf"
      },
      "outputs": [],
      "source": [
        "train_model300_predictions = treemodel300.predict(train)\n",
        "train_model300_probs = treemodel300.predict_proba(train)[:, 1]\n",
        "\n",
        "model300_predictions = treemodel300.predict(test)\n",
        "model300_probs = treemodel300.predict_proba(test)[:, 1]\n",
        "\n",
        "# Evaluate model and draw ROC curve\n",
        "evaluate_model(model300_predictions, model300_probs, train_model300_predictions, train_model300_probs)"
      ]
    },
    {
      "cell_type": "code",
      "execution_count": null,
      "id": "c85bc9be",
      "metadata": {
        "id": "c85bc9be"
      },
      "outputs": [],
      "source": [
        "cm = confusion_matrix(test_labels, model300_predictions)\n",
        "plot_confusion_matrix(cm, classes = ['Low Risk', 'High Risk'],\n",
        "                      title = 'Risk Level Confusion Matrix (300Trees)')"
      ]
    },
    {
      "cell_type": "markdown",
      "id": "a4591077",
      "metadata": {
        "id": "a4591077"
      },
      "source": [
        "### Observations\n",
        "- Slight improvement over the other random forest. Slightly better percision in the testing group (89 vs 88). However, now our recall rate is falling more (78 vs 81). Any more strides taken to try and increase percision will start to affect recall rate drastically.\n",
        "- Probably have taken base Random Forest as far as it can with this dataset.\n",
        "- However, what about utilizing grid search to optimize our hyperparameters?"
      ]
    },
    {
      "cell_type": "markdown",
      "id": "a39c8e53",
      "metadata": {
        "id": "a39c8e53"
      },
      "source": [
        "## Random Forest Utilizing Random Grid Search"
      ]
    },
    {
      "cell_type": "code",
      "execution_count": null,
      "id": "c08b5df0",
      "metadata": {
        "id": "c08b5df0"
      },
      "outputs": [],
      "source": [
        "from sklearn.model_selection import RandomizedSearchCV\n",
        "\n",
        "# Hyperparameter grid\n",
        "param_grid = {\n",
        "    'n_estimators': np.linspace(10, 200).astype(int),\n",
        "    'max_depth': [None] + list(np.linspace(3, 20).astype(int)),\n",
        "    'max_features': ['auto', 'sqrt', None] + list(np.arange(0.5, 1, 0.1)),\n",
        "    'max_leaf_nodes': [None] + list(np.linspace(10, 50, 500).astype(int)),\n",
        "    'min_samples_split': [2, 5, 10],\n",
        "    'bootstrap': [True, False],\n",
        "    'class_weight': ['balanced', None]\n",
        "}\n",
        "\n",
        "# Estimator for use in random search\n",
        "estimator = RandomForestClassifier(random_state = 0)\n",
        "\n",
        "# Create the random search model\n",
        "RandomSearch = RandomizedSearchCV(estimator, param_grid, n_jobs = -1, \n",
        "                        scoring = 'roc_auc', cv = 3, \n",
        "                        n_iter = 10, verbose = 1, random_state=0)\n",
        "\n",
        "# Fit \n",
        "RandomSearch.fit(train, train_labels)"
      ]
    },
    {
      "cell_type": "code",
      "execution_count": null,
      "id": "3ecee918",
      "metadata": {
        "id": "3ecee918"
      },
      "outputs": [],
      "source": [
        "# Finding the best parameters\n",
        "RandomSearch.best_params_"
      ]
    },
    {
      "cell_type": "code",
      "execution_count": null,
      "id": "969c5e46",
      "metadata": {
        "id": "969c5e46"
      },
      "outputs": [],
      "source": [
        "best_model = RandomSearch.best_estimator_"
      ]
    },
    {
      "cell_type": "code",
      "execution_count": null,
      "id": "582616b4",
      "metadata": {
        "id": "582616b4"
      },
      "outputs": [],
      "source": [
        "# Splitting data and extracting predictions\n",
        "train_Grid_predictions = best_model.predict(train)\n",
        "train_Grid_probs = best_model.predict_proba(train)[:, 1]\n",
        "\n",
        "Grid_predictions = best_model.predict(test)\n",
        "Grid_probs = best_model.predict_proba(test)[:, 1]"
      ]
    },
    {
      "cell_type": "code",
      "execution_count": null,
      "id": "89ed431e",
      "metadata": {
        "id": "89ed431e"
      },
      "outputs": [],
      "source": [
        "evaluate_model(Grid_predictions, Grid_probs, train_Grid_predictions, train_Grid_probs)"
      ]
    },
    {
      "cell_type": "code",
      "execution_count": null,
      "id": "38a31d14",
      "metadata": {
        "id": "38a31d14"
      },
      "outputs": [],
      "source": [
        "# Drawing the ensemble Decision Tree\n",
        "from sklearn import tree\n",
        "estimator = best_model.estimators_[1]\n",
        "\n",
        "fig = plt.figure(figsize=(35,30))\n",
        "tree.plot_tree(estimator, max_depth=10, feature_names = features, fontsize = 13)\n",
        "fig.savefig(\"tree_estimator.png\")"
      ]
    },
    {
      "cell_type": "code",
      "execution_count": null,
      "id": "d788e9ee",
      "metadata": {
        "id": "d788e9ee"
      },
      "outputs": [],
      "source": [
        "n_nodes = []\n",
        "max_depths = []\n",
        "\n",
        "for ind_tree in best_model.estimators_:\n",
        "    n_nodes.append(ind_tree.tree_.node_count)\n",
        "    max_depths.append(ind_tree.tree_.max_depth)\n",
        "    \n",
        "print(f'Average number of nodes {int(np.mean(n_nodes))}')\n",
        "print(f'Average maximum depth {int(np.mean(max_depths))}')"
      ]
    },
    {
      "cell_type": "code",
      "execution_count": null,
      "id": "0137942e",
      "metadata": {
        "id": "0137942e"
      },
      "outputs": [],
      "source": [
        "cm = confusion_matrix(test_labels, Grid_predictions)\n",
        "plot_confusion_matrix(cm, classes = ['Low Risk', 'High Risk'],\n",
        "                      title = 'Risk Level Confusion Matrix (Random Grid)')"
      ]
    },
    {
      "cell_type": "markdown",
      "metadata": {
        "id": "7f00dac7"
      },
      "source": [
        "## Observations\n",
        "- It seems like utilizing the Random Grid Search favored more percision than recall amoungst all of our models. \n",
        "- Grid Search was able to cut down on the number of nodes as well as depth of the Decision Tree, so I would say this was a success.\n",
        "- Random Forest with a Random Grid Search was able to produce a more efficent Decision Tree compared to the single Decision Tree, the Random Forest with 100 and 300 trees.\n",
        "- Compared to our Logistic Regression, our Decision Tree models seemed to favor higher percision. This would make sense as Logistic Regressions aims to classify all observations as best as they can. Decision tree models aim to try and bake in better accuracy as well as offering the flexibilty to decide where in that tradeoff between recall and percision you would like to be."
      ],
      "id": "7f00dac7"
    },
    {
      "cell_type": "markdown",
      "source": [
        "## Deep Learning Using Artifical Nerual Networks"
      ],
      "metadata": {
        "id": "z6KSz94zHJNE"
      },
      "id": "z6KSz94zHJNE"
    },
    {
      "cell_type": "code",
      "source": [
        "# Reading in the data again to restart\n",
        "DataLearn = pd.read_csv('/content/drive/MyDrive/Machine_Learning/MIDTERMANACONDA.csv')\n",
        "DataLearn.head()\n",
        "DataLearn = DataLearn.drop(['Unnamed: 0', 'BRalpha', 'BRregion','date','icd10','mMaxPL.y','cpt'], axis = 1)\n",
        "# Dropping unnecessary variables"
      ],
      "metadata": {
        "id": "ZuTcZnnaHSEq"
      },
      "id": "ZuTcZnnaHSEq",
      "execution_count": 20,
      "outputs": []
    },
    {
      "cell_type": "code",
      "source": [
        "# Make dummy variables for PL's\n",
        "DummyData = pd.concat([DataLearn, pd.get_dummies(DataLearn['pl'], prefix='pl')], axis=1)\n",
        "DummyData = DummyData.drop(['pl'], axis = 1)\n",
        "\n",
        "DummyData.describe()\n"
      ],
      "metadata": {
        "colab": {
          "base_uri": "https://localhost:8080/",
          "height": 300
        },
        "id": "ceUakQf6HyhD",
        "outputId": "5a3dd3be-d1b5-4ce3-a3b8-7bcb8d63e4ad"
      },
      "id": "ceUakQf6HyhD",
      "execution_count": 21,
      "outputs": [
        {
          "output_type": "execute_result",
          "data": {
            "text/plain": [
              "            LOWPMPY      HIGHPMPY         amount          PMPY          PCPY  \\\n",
              "count  20000.000000  20000.000000   20000.000000  20000.000000  20000.000000   \n",
              "mean     347.837131   3965.447851     179.866700   2678.960899    170.364990   \n",
              "std      205.151163   1782.615461    1553.848423   1206.171927     85.504875   \n",
              "min       83.430000    961.690000  -14438.000000    569.810000     68.350000   \n",
              "25%      227.480000   2902.760000       0.000000   1394.010000    100.500000   \n",
              "50%      279.630000   3615.320000      32.000000   2755.600000    138.280000   \n",
              "75%      447.110000   5355.510000      98.000000   3438.650000    208.670000   \n",
              "max      780.190000   8192.320000  126507.000000   5179.470000    489.190000   \n",
              "\n",
              "           Duration     HighRisk          pl_0          pl_2          pl_3  \\\n",
              "count  20000.000000  20000.00000  20000.000000  20000.000000  20000.000000   \n",
              "mean      35.662900      0.81625      0.216000      0.119950      0.050200   \n",
              "std       39.616416      0.38729      0.411525      0.324911      0.218363   \n",
              "min        0.000000      0.00000      0.000000      0.000000      0.000000   \n",
              "25%        4.000000      1.00000      0.000000      0.000000      0.000000   \n",
              "50%       21.000000      1.00000      0.000000      0.000000      0.000000   \n",
              "75%       56.000000      1.00000      0.000000      0.000000      0.000000   \n",
              "max      174.000000      1.00000      1.000000      1.000000      1.000000   \n",
              "\n",
              "               pl_4          pl_5          pl_6          pl_7          pl_8  \\\n",
              "count  20000.000000  20000.000000  20000.000000  20000.000000  20000.000000   \n",
              "mean       0.083750      0.280950      0.061500      0.023750      0.022250   \n",
              "std        0.277019      0.449474      0.240251      0.152273      0.147499   \n",
              "min        0.000000      0.000000      0.000000      0.000000      0.000000   \n",
              "25%        0.000000      0.000000      0.000000      0.000000      0.000000   \n",
              "50%        0.000000      0.000000      0.000000      0.000000      0.000000   \n",
              "75%        0.000000      1.000000      0.000000      0.000000      0.000000   \n",
              "max        1.000000      1.000000      1.000000      1.000000      1.000000   \n",
              "\n",
              "              pl_9  \n",
              "count  20000.00000  \n",
              "mean       0.14165  \n",
              "std        0.34870  \n",
              "min        0.00000  \n",
              "25%        0.00000  \n",
              "50%        0.00000  \n",
              "75%        0.00000  \n",
              "max        1.00000  "
            ],
            "text/html": [
              "\n",
              "  <div id=\"df-8dd2fb6d-6bc1-4662-9fd7-f212437b2079\">\n",
              "    <div class=\"colab-df-container\">\n",
              "      <div>\n",
              "<style scoped>\n",
              "    .dataframe tbody tr th:only-of-type {\n",
              "        vertical-align: middle;\n",
              "    }\n",
              "\n",
              "    .dataframe tbody tr th {\n",
              "        vertical-align: top;\n",
              "    }\n",
              "\n",
              "    .dataframe thead th {\n",
              "        text-align: right;\n",
              "    }\n",
              "</style>\n",
              "<table border=\"1\" class=\"dataframe\">\n",
              "  <thead>\n",
              "    <tr style=\"text-align: right;\">\n",
              "      <th></th>\n",
              "      <th>LOWPMPY</th>\n",
              "      <th>HIGHPMPY</th>\n",
              "      <th>amount</th>\n",
              "      <th>PMPY</th>\n",
              "      <th>PCPY</th>\n",
              "      <th>Duration</th>\n",
              "      <th>HighRisk</th>\n",
              "      <th>pl_0</th>\n",
              "      <th>pl_2</th>\n",
              "      <th>pl_3</th>\n",
              "      <th>pl_4</th>\n",
              "      <th>pl_5</th>\n",
              "      <th>pl_6</th>\n",
              "      <th>pl_7</th>\n",
              "      <th>pl_8</th>\n",
              "      <th>pl_9</th>\n",
              "    </tr>\n",
              "  </thead>\n",
              "  <tbody>\n",
              "    <tr>\n",
              "      <th>count</th>\n",
              "      <td>20000.000000</td>\n",
              "      <td>20000.000000</td>\n",
              "      <td>20000.000000</td>\n",
              "      <td>20000.000000</td>\n",
              "      <td>20000.000000</td>\n",
              "      <td>20000.000000</td>\n",
              "      <td>20000.00000</td>\n",
              "      <td>20000.000000</td>\n",
              "      <td>20000.000000</td>\n",
              "      <td>20000.000000</td>\n",
              "      <td>20000.000000</td>\n",
              "      <td>20000.000000</td>\n",
              "      <td>20000.000000</td>\n",
              "      <td>20000.000000</td>\n",
              "      <td>20000.000000</td>\n",
              "      <td>20000.00000</td>\n",
              "    </tr>\n",
              "    <tr>\n",
              "      <th>mean</th>\n",
              "      <td>347.837131</td>\n",
              "      <td>3965.447851</td>\n",
              "      <td>179.866700</td>\n",
              "      <td>2678.960899</td>\n",
              "      <td>170.364990</td>\n",
              "      <td>35.662900</td>\n",
              "      <td>0.81625</td>\n",
              "      <td>0.216000</td>\n",
              "      <td>0.119950</td>\n",
              "      <td>0.050200</td>\n",
              "      <td>0.083750</td>\n",
              "      <td>0.280950</td>\n",
              "      <td>0.061500</td>\n",
              "      <td>0.023750</td>\n",
              "      <td>0.022250</td>\n",
              "      <td>0.14165</td>\n",
              "    </tr>\n",
              "    <tr>\n",
              "      <th>std</th>\n",
              "      <td>205.151163</td>\n",
              "      <td>1782.615461</td>\n",
              "      <td>1553.848423</td>\n",
              "      <td>1206.171927</td>\n",
              "      <td>85.504875</td>\n",
              "      <td>39.616416</td>\n",
              "      <td>0.38729</td>\n",
              "      <td>0.411525</td>\n",
              "      <td>0.324911</td>\n",
              "      <td>0.218363</td>\n",
              "      <td>0.277019</td>\n",
              "      <td>0.449474</td>\n",
              "      <td>0.240251</td>\n",
              "      <td>0.152273</td>\n",
              "      <td>0.147499</td>\n",
              "      <td>0.34870</td>\n",
              "    </tr>\n",
              "    <tr>\n",
              "      <th>min</th>\n",
              "      <td>83.430000</td>\n",
              "      <td>961.690000</td>\n",
              "      <td>-14438.000000</td>\n",
              "      <td>569.810000</td>\n",
              "      <td>68.350000</td>\n",
              "      <td>0.000000</td>\n",
              "      <td>0.00000</td>\n",
              "      <td>0.000000</td>\n",
              "      <td>0.000000</td>\n",
              "      <td>0.000000</td>\n",
              "      <td>0.000000</td>\n",
              "      <td>0.000000</td>\n",
              "      <td>0.000000</td>\n",
              "      <td>0.000000</td>\n",
              "      <td>0.000000</td>\n",
              "      <td>0.00000</td>\n",
              "    </tr>\n",
              "    <tr>\n",
              "      <th>25%</th>\n",
              "      <td>227.480000</td>\n",
              "      <td>2902.760000</td>\n",
              "      <td>0.000000</td>\n",
              "      <td>1394.010000</td>\n",
              "      <td>100.500000</td>\n",
              "      <td>4.000000</td>\n",
              "      <td>1.00000</td>\n",
              "      <td>0.000000</td>\n",
              "      <td>0.000000</td>\n",
              "      <td>0.000000</td>\n",
              "      <td>0.000000</td>\n",
              "      <td>0.000000</td>\n",
              "      <td>0.000000</td>\n",
              "      <td>0.000000</td>\n",
              "      <td>0.000000</td>\n",
              "      <td>0.00000</td>\n",
              "    </tr>\n",
              "    <tr>\n",
              "      <th>50%</th>\n",
              "      <td>279.630000</td>\n",
              "      <td>3615.320000</td>\n",
              "      <td>32.000000</td>\n",
              "      <td>2755.600000</td>\n",
              "      <td>138.280000</td>\n",
              "      <td>21.000000</td>\n",
              "      <td>1.00000</td>\n",
              "      <td>0.000000</td>\n",
              "      <td>0.000000</td>\n",
              "      <td>0.000000</td>\n",
              "      <td>0.000000</td>\n",
              "      <td>0.000000</td>\n",
              "      <td>0.000000</td>\n",
              "      <td>0.000000</td>\n",
              "      <td>0.000000</td>\n",
              "      <td>0.00000</td>\n",
              "    </tr>\n",
              "    <tr>\n",
              "      <th>75%</th>\n",
              "      <td>447.110000</td>\n",
              "      <td>5355.510000</td>\n",
              "      <td>98.000000</td>\n",
              "      <td>3438.650000</td>\n",
              "      <td>208.670000</td>\n",
              "      <td>56.000000</td>\n",
              "      <td>1.00000</td>\n",
              "      <td>0.000000</td>\n",
              "      <td>0.000000</td>\n",
              "      <td>0.000000</td>\n",
              "      <td>0.000000</td>\n",
              "      <td>1.000000</td>\n",
              "      <td>0.000000</td>\n",
              "      <td>0.000000</td>\n",
              "      <td>0.000000</td>\n",
              "      <td>0.00000</td>\n",
              "    </tr>\n",
              "    <tr>\n",
              "      <th>max</th>\n",
              "      <td>780.190000</td>\n",
              "      <td>8192.320000</td>\n",
              "      <td>126507.000000</td>\n",
              "      <td>5179.470000</td>\n",
              "      <td>489.190000</td>\n",
              "      <td>174.000000</td>\n",
              "      <td>1.00000</td>\n",
              "      <td>1.000000</td>\n",
              "      <td>1.000000</td>\n",
              "      <td>1.000000</td>\n",
              "      <td>1.000000</td>\n",
              "      <td>1.000000</td>\n",
              "      <td>1.000000</td>\n",
              "      <td>1.000000</td>\n",
              "      <td>1.000000</td>\n",
              "      <td>1.00000</td>\n",
              "    </tr>\n",
              "  </tbody>\n",
              "</table>\n",
              "</div>\n",
              "      <button class=\"colab-df-convert\" onclick=\"convertToInteractive('df-8dd2fb6d-6bc1-4662-9fd7-f212437b2079')\"\n",
              "              title=\"Convert this dataframe to an interactive table.\"\n",
              "              style=\"display:none;\">\n",
              "        \n",
              "  <svg xmlns=\"http://www.w3.org/2000/svg\" height=\"24px\"viewBox=\"0 0 24 24\"\n",
              "       width=\"24px\">\n",
              "    <path d=\"M0 0h24v24H0V0z\" fill=\"none\"/>\n",
              "    <path d=\"M18.56 5.44l.94 2.06.94-2.06 2.06-.94-2.06-.94-.94-2.06-.94 2.06-2.06.94zm-11 1L8.5 8.5l.94-2.06 2.06-.94-2.06-.94L8.5 2.5l-.94 2.06-2.06.94zm10 10l.94 2.06.94-2.06 2.06-.94-2.06-.94-.94-2.06-.94 2.06-2.06.94z\"/><path d=\"M17.41 7.96l-1.37-1.37c-.4-.4-.92-.59-1.43-.59-.52 0-1.04.2-1.43.59L10.3 9.45l-7.72 7.72c-.78.78-.78 2.05 0 2.83L4 21.41c.39.39.9.59 1.41.59.51 0 1.02-.2 1.41-.59l7.78-7.78 2.81-2.81c.8-.78.8-2.07 0-2.86zM5.41 20L4 18.59l7.72-7.72 1.47 1.35L5.41 20z\"/>\n",
              "  </svg>\n",
              "      </button>\n",
              "      \n",
              "  <style>\n",
              "    .colab-df-container {\n",
              "      display:flex;\n",
              "      flex-wrap:wrap;\n",
              "      gap: 12px;\n",
              "    }\n",
              "\n",
              "    .colab-df-convert {\n",
              "      background-color: #E8F0FE;\n",
              "      border: none;\n",
              "      border-radius: 50%;\n",
              "      cursor: pointer;\n",
              "      display: none;\n",
              "      fill: #1967D2;\n",
              "      height: 32px;\n",
              "      padding: 0 0 0 0;\n",
              "      width: 32px;\n",
              "    }\n",
              "\n",
              "    .colab-df-convert:hover {\n",
              "      background-color: #E2EBFA;\n",
              "      box-shadow: 0px 1px 2px rgba(60, 64, 67, 0.3), 0px 1px 3px 1px rgba(60, 64, 67, 0.15);\n",
              "      fill: #174EA6;\n",
              "    }\n",
              "\n",
              "    [theme=dark] .colab-df-convert {\n",
              "      background-color: #3B4455;\n",
              "      fill: #D2E3FC;\n",
              "    }\n",
              "\n",
              "    [theme=dark] .colab-df-convert:hover {\n",
              "      background-color: #434B5C;\n",
              "      box-shadow: 0px 1px 3px 1px rgba(0, 0, 0, 0.15);\n",
              "      filter: drop-shadow(0px 1px 2px rgba(0, 0, 0, 0.3));\n",
              "      fill: #FFFFFF;\n",
              "    }\n",
              "  </style>\n",
              "\n",
              "      <script>\n",
              "        const buttonEl =\n",
              "          document.querySelector('#df-8dd2fb6d-6bc1-4662-9fd7-f212437b2079 button.colab-df-convert');\n",
              "        buttonEl.style.display =\n",
              "          google.colab.kernel.accessAllowed ? 'block' : 'none';\n",
              "\n",
              "        async function convertToInteractive(key) {\n",
              "          const element = document.querySelector('#df-8dd2fb6d-6bc1-4662-9fd7-f212437b2079');\n",
              "          const dataTable =\n",
              "            await google.colab.kernel.invokeFunction('convertToInteractive',\n",
              "                                                     [key], {});\n",
              "          if (!dataTable) return;\n",
              "\n",
              "          const docLinkHtml = 'Like what you see? Visit the ' +\n",
              "            '<a target=\"_blank\" href=https://colab.research.google.com/notebooks/data_table.ipynb>data table notebook</a>'\n",
              "            + ' to learn more about interactive tables.';\n",
              "          element.innerHTML = '';\n",
              "          dataTable['output_type'] = 'display_data';\n",
              "          await google.colab.output.renderOutput(dataTable, element);\n",
              "          const docLink = document.createElement('div');\n",
              "          docLink.innerHTML = docLinkHtml;\n",
              "          element.appendChild(docLink);\n",
              "        }\n",
              "      </script>\n",
              "    </div>\n",
              "  </div>\n",
              "  "
            ]
          },
          "metadata": {},
          "execution_count": 21
        }
      ]
    },
    {
      "cell_type": "code",
      "source": [
        "# Copying our data for further analysis and scalling\n",
        "# Dividing all values by the max is a safe way to scale\n",
        "ScaledData = DummyData[:]\n",
        "\n",
        "ScaledData['LOWPMPY'] = ScaledData['LOWPMPY']/780.19\n",
        "ScaledData['HIGHPMPY'] = ScaledData['HIGHPMPY']/8192.32\n",
        "ScaledData['amount'] = ScaledData['amount']/126507\n",
        "ScaledData['PMPY'] = ScaledData['PMPY']/5179.47\n",
        "ScaledData['PCPY'] = ScaledData['PCPY']/489.190\n",
        "ScaledData['Duration'] = ScaledData['Duration']/174\n"
      ],
      "metadata": {
        "id": "3B358_FeKTVW"
      },
      "id": "3B358_FeKTVW",
      "execution_count": 22,
      "outputs": []
    },
    {
      "cell_type": "code",
      "source": [
        "# Sometimes train_test_split does not work from SkLearn. This is the more 'reliable' way to do it.\n",
        "sample = np.random.choice(ScaledData.index, size=int(len(ScaledData)*0.9), replace=False)\n",
        "train_data, test_data = ScaledData.iloc[sample], ScaledData.drop(sample)\n",
        "\n",
        "print(\"Number of training samples is\", len(train_data))\n",
        "print(\"Number of testing samples is\", len(test_data))\n",
        "print(train_data[:10])\n",
        "print(test_data[:10])"
      ],
      "metadata": {
        "colab": {
          "base_uri": "https://localhost:8080/"
        },
        "id": "TvKF9-1qTvFJ",
        "outputId": "a54ca844-4b92-47ad-dbdc-bae2c7c24f79"
      },
      "id": "TvKF9-1qTvFJ",
      "execution_count": 23,
      "outputs": [
        {
          "output_type": "stream",
          "name": "stdout",
          "text": [
            "Number of training samples is 18000\n",
            "Number of testing samples is 2000\n",
            "        LOWPMPY  HIGHPMPY    amount      PMPY      PCPY  Duration  HighRisk  \\\n",
            "4600   0.511363  0.462514  0.000000  0.470481  0.406202  0.000000         1   \n",
            "15805  0.511363  0.462514  0.000451  0.470481  0.406202  0.143678         0   \n",
            "13127  1.000000  0.923271  0.001494  0.979428  0.655778  0.022989         0   \n",
            "3457   0.158410  0.209566  0.000142  0.191803  0.169075  0.522989         1   \n",
            "8145   0.158410  0.209566  0.012774  0.191803  0.169075  0.247126         1   \n",
            "8349   0.326190  0.381417  0.002253  0.449293  0.267197  0.000000         1   \n",
            "17542  0.291570  0.445196  0.000909  0.532024  0.282671  0.396552         1   \n",
            "2639   0.316846  0.424786  0.000174  0.476713  0.476543  0.218391         1   \n",
            "6907   0.291570  0.445196  0.000142  0.532024  0.282671  0.419540         1   \n",
            "11563  0.375588  0.349524  0.000000  0.328711  0.257814  0.247126         1   \n",
            "\n",
            "       pl_0  pl_2  pl_3  pl_4  pl_5  pl_6  pl_7  pl_8  pl_9  \n",
            "4600      1     0     0     0     0     0     0     0     0  \n",
            "15805     1     0     0     0     0     0     0     0     0  \n",
            "13127     0     1     0     0     0     0     0     0     0  \n",
            "3457      1     0     0     0     0     0     0     0     0  \n",
            "8145      0     0     0     0     0     0     0     0     1  \n",
            "8349      0     0     0     0     0     0     0     0     1  \n",
            "17542     0     1     0     0     0     0     0     0     0  \n",
            "2639      0     0     0     1     0     0     0     0     0  \n",
            "6907      0     0     0     0     1     0     0     0     0  \n",
            "11563     0     0     0     0     1     0     0     0     0  \n",
            "     LOWPMPY  HIGHPMPY    amount      PMPY      PCPY  Duration  HighRisk  \\\n",
            "1   0.326190  0.381417  0.000000  0.449293  0.267197  0.022989         1   \n",
            "12  1.000000  0.923271  0.001486  0.979428  0.655778  0.000000         1   \n",
            "19  0.512439  0.619760  0.001502  0.663900  0.397208  0.000000         0   \n",
            "22  1.000000  0.923271  0.003842  0.979428  0.655778  0.270115         1   \n",
            "27  0.158410  0.209566  0.000000  0.191803  0.169075  0.000000         1   \n",
            "48  0.664005  0.793460  0.000395  0.684740  1.000000  0.045977         1   \n",
            "51  0.326190  0.381417  0.000561  0.449293  0.267197  0.620690         1   \n",
            "56  0.534780  0.696594  0.000158  0.749395  0.404178  0.321839         1   \n",
            "63  0.312168  0.260278  0.000379  0.249564  0.332509  0.373563         0   \n",
            "64  0.291570  0.445196  0.000000  0.532024  0.282671  0.045977         1   \n",
            "\n",
            "    pl_0  pl_2  pl_3  pl_4  pl_5  pl_6  pl_7  pl_8  pl_9  \n",
            "1      0     1     0     0     0     0     0     0     0  \n",
            "12     1     0     0     0     0     0     0     0     0  \n",
            "19     1     0     0     0     0     0     0     0     0  \n",
            "22     0     0     0     0     0     0     0     0     1  \n",
            "27     0     0     0     0     0     1     0     0     0  \n",
            "48     0     0     0     0     1     0     0     0     0  \n",
            "51     0     1     0     0     0     0     0     0     0  \n",
            "56     0     0     0     0     1     0     0     0     0  \n",
            "63     0     1     0     0     0     0     0     0     0  \n",
            "64     0     0     0     0     0     0     0     0     1  \n"
          ]
        }
      ]
    },
    {
      "cell_type": "markdown",
      "source": [
        "Next, we must split our data into its features and target variable (HighRisk/LowRisk in this case)"
      ],
      "metadata": {
        "id": "WlLdZDizUDuQ"
      },
      "id": "WlLdZDizUDuQ"
    },
    {
      "cell_type": "code",
      "source": [
        "import keras\n",
        "import tensorflow\n",
        "from tensorflow.keras.utils import to_categorical\n",
        "from keras.utils import np_utils\n",
        "\n",
        "# Note: We're also turning the data into numpy arrays, in order to train the model in Keras\n",
        "# For some reason, Keras and TensorFlow likes NumPy better than Pandas.\n",
        "features = np.array(train_data.drop('HighRisk', axis=1))\n",
        "targets = np.array(keras.utils.np_utils.to_categorical(train_data['HighRisk'], 2))\n",
        "features_test = np.array(test_data.drop('HighRisk', axis=1))\n",
        "targets_test = np.array(keras.utils.np_utils.to_categorical(test_data['HighRisk'], 2))\n",
        "\n",
        "print(features[:10])\n",
        "print(targets[:10])"
      ],
      "metadata": {
        "colab": {
          "base_uri": "https://localhost:8080/"
        },
        "id": "oWVLMWU4URlM",
        "outputId": "dececf33-4660-4dad-86b1-11af90d6f3a1"
      },
      "id": "oWVLMWU4URlM",
      "execution_count": 24,
      "outputs": [
        {
          "output_type": "stream",
          "name": "stdout",
          "text": [
            "[[5.11362617e-01 4.62513671e-01 0.00000000e+00 4.70480570e-01\n",
            "  4.06202089e-01 0.00000000e+00 1.00000000e+00 0.00000000e+00\n",
            "  0.00000000e+00 0.00000000e+00 0.00000000e+00 0.00000000e+00\n",
            "  0.00000000e+00 0.00000000e+00 0.00000000e+00]\n",
            " [5.11362617e-01 4.62513671e-01 4.50567953e-04 4.70480570e-01\n",
            "  4.06202089e-01 1.43678161e-01 1.00000000e+00 0.00000000e+00\n",
            "  0.00000000e+00 0.00000000e+00 0.00000000e+00 0.00000000e+00\n",
            "  0.00000000e+00 0.00000000e+00 0.00000000e+00]\n",
            " [1.00000000e+00 9.23270819e-01 1.49398847e-03 9.79428397e-01\n",
            "  6.55777919e-01 2.29885057e-02 0.00000000e+00 1.00000000e+00\n",
            "  0.00000000e+00 0.00000000e+00 0.00000000e+00 0.00000000e+00\n",
            "  0.00000000e+00 0.00000000e+00 0.00000000e+00]\n",
            " [1.58410131e-01 2.09565788e-01 1.42284617e-04 1.91803408e-01\n",
            "  1.69075410e-01 5.22988506e-01 1.00000000e+00 0.00000000e+00\n",
            "  0.00000000e+00 0.00000000e+00 0.00000000e+00 0.00000000e+00\n",
            "  0.00000000e+00 0.00000000e+00 0.00000000e+00]\n",
            " [1.58410131e-01 2.09565788e-01 1.27739967e-02 1.91803408e-01\n",
            "  1.69075410e-01 2.47126437e-01 0.00000000e+00 0.00000000e+00\n",
            "  0.00000000e+00 0.00000000e+00 0.00000000e+00 0.00000000e+00\n",
            "  0.00000000e+00 0.00000000e+00 1.00000000e+00]\n",
            " [3.26189774e-01 3.81416986e-01 2.25283976e-03 4.49293074e-01\n",
            "  2.67196795e-01 0.00000000e+00 0.00000000e+00 0.00000000e+00\n",
            "  0.00000000e+00 0.00000000e+00 0.00000000e+00 0.00000000e+00\n",
            "  0.00000000e+00 0.00000000e+00 1.00000000e+00]\n",
            " [2.91570002e-01 4.45196233e-01 9.09040606e-04 5.32023547e-01\n",
            "  2.82671355e-01 3.96551724e-01 0.00000000e+00 1.00000000e+00\n",
            "  0.00000000e+00 0.00000000e+00 0.00000000e+00 0.00000000e+00\n",
            "  0.00000000e+00 0.00000000e+00 0.00000000e+00]\n",
            " [3.16845897e-01 4.24785653e-01 1.73903420e-04 4.76712868e-01\n",
            "  4.76542857e-01 2.18390805e-01 0.00000000e+00 0.00000000e+00\n",
            "  0.00000000e+00 1.00000000e+00 0.00000000e+00 0.00000000e+00\n",
            "  0.00000000e+00 0.00000000e+00 0.00000000e+00]\n",
            " [2.91570002e-01 4.45196233e-01 1.42284617e-04 5.32023547e-01\n",
            "  2.82671355e-01 4.19540230e-01 0.00000000e+00 0.00000000e+00\n",
            "  0.00000000e+00 0.00000000e+00 1.00000000e+00 0.00000000e+00\n",
            "  0.00000000e+00 0.00000000e+00 0.00000000e+00]\n",
            " [3.75587998e-01 3.49523700e-01 0.00000000e+00 3.28711239e-01\n",
            "  2.57813937e-01 2.47126437e-01 0.00000000e+00 0.00000000e+00\n",
            "  0.00000000e+00 0.00000000e+00 1.00000000e+00 0.00000000e+00\n",
            "  0.00000000e+00 0.00000000e+00 0.00000000e+00]]\n",
            "[[0. 1.]\n",
            " [1. 0.]\n",
            " [1. 0.]\n",
            " [0. 1.]\n",
            " [0. 1.]\n",
            " [0. 1.]\n",
            " [0. 1.]\n",
            " [0. 1.]\n",
            " [0. 1.]\n",
            " [0. 1.]]\n"
          ]
        }
      ]
    },
    {
      "cell_type": "code",
      "source": [
        "# Imports\n",
        "import numpy as np\n",
        "from keras.models import Sequential\n",
        "from keras.layers.core import Dense, Dropout, Activation\n",
        "from tensorflow.keras.optimizers import SGD\n",
        "from keras.utils import np_utils\n",
        "\n",
        "# Building the first model\n",
        "model1 = Sequential()\n",
        "model1.add(Dense(128, activation='relu', input_shape=(15,)))\n",
        "model1.add(Dropout(.2))\n",
        "model1.add(Dense(64, activation='relu'))\n",
        "model1.add(Dropout(.1))\n",
        "model1.add(Dense(2, activation='softmax'))\n",
        "\n",
        "# Second model with slightly different strucutre \n",
        "model2 = Sequential()\n",
        "model2.add(Dense(64, activation = 'relu', input_shape=(15,)))\n",
        "model2.add(Dropout(.2))\n",
        "model2.add(Dense(12, activation = 'relu'))\n",
        "model2.add(Dropout(.1))\n",
        "model2.add(Dense(2, activation = 'softmax'))\n",
        "\n",
        "# Third model with a sprase strucutre \n",
        "model3 = Sequential()\n",
        "model3.add(Dense(12, activation = 'relu', input_shape=(15,)))\n",
        "model3.add(Dropout(.2))\n",
        "model3.add(Dense(4, activation = 'relu'))\n",
        "model3.add(Dropout(.1))\n",
        "model3.add(Dense(2, activation = 'softmax'))\n",
        "\n",
        "# Compiling the model\n",
        "model1.compile(loss = 'categorical_crossentropy', optimizer='adam', metrics=['accuracy'])\n",
        "model1.summary()\n",
        "\n",
        "#Compiling model 2\n",
        "model2.compile(loss = 'categorical_crossentropy', optimizer = 'adam', metrics =['accuracy'])\n",
        "model2.summary()\n",
        "\n",
        "#Compiling model 3\n",
        "model3.compile(loss = 'categorical_crossentropy', optimizer = 'adam', metrics =['accuracy'])\n",
        "model3.summary()"
      ],
      "metadata": {
        "colab": {
          "base_uri": "https://localhost:8080/"
        },
        "id": "wSuHTwYOVbBt",
        "outputId": "40340e6e-2e36-4757-830a-9fc9decd9e7c"
      },
      "id": "wSuHTwYOVbBt",
      "execution_count": 39,
      "outputs": [
        {
          "output_type": "stream",
          "name": "stdout",
          "text": [
            "Model: \"sequential_8\"\n",
            "_________________________________________________________________\n",
            " Layer (type)                Output Shape              Param #   \n",
            "=================================================================\n",
            " dense_24 (Dense)            (None, 128)               2048      \n",
            "                                                                 \n",
            " dropout_16 (Dropout)        (None, 128)               0         \n",
            "                                                                 \n",
            " dense_25 (Dense)            (None, 64)                8256      \n",
            "                                                                 \n",
            " dropout_17 (Dropout)        (None, 64)                0         \n",
            "                                                                 \n",
            " dense_26 (Dense)            (None, 2)                 130       \n",
            "                                                                 \n",
            "=================================================================\n",
            "Total params: 10,434\n",
            "Trainable params: 10,434\n",
            "Non-trainable params: 0\n",
            "_________________________________________________________________\n",
            "Model: \"sequential_9\"\n",
            "_________________________________________________________________\n",
            " Layer (type)                Output Shape              Param #   \n",
            "=================================================================\n",
            " dense_27 (Dense)            (None, 64)                1024      \n",
            "                                                                 \n",
            " dropout_18 (Dropout)        (None, 64)                0         \n",
            "                                                                 \n",
            " dense_28 (Dense)            (None, 12)                780       \n",
            "                                                                 \n",
            " dropout_19 (Dropout)        (None, 12)                0         \n",
            "                                                                 \n",
            " dense_29 (Dense)            (None, 2)                 26        \n",
            "                                                                 \n",
            "=================================================================\n",
            "Total params: 1,830\n",
            "Trainable params: 1,830\n",
            "Non-trainable params: 0\n",
            "_________________________________________________________________\n",
            "Model: \"sequential_10\"\n",
            "_________________________________________________________________\n",
            " Layer (type)                Output Shape              Param #   \n",
            "=================================================================\n",
            " dense_30 (Dense)            (None, 12)                192       \n",
            "                                                                 \n",
            " dropout_20 (Dropout)        (None, 12)                0         \n",
            "                                                                 \n",
            " dense_31 (Dense)            (None, 4)                 52        \n",
            "                                                                 \n",
            " dropout_21 (Dropout)        (None, 4)                 0         \n",
            "                                                                 \n",
            " dense_32 (Dense)            (None, 2)                 10        \n",
            "                                                                 \n",
            "=================================================================\n",
            "Total params: 254\n",
            "Trainable params: 254\n",
            "Non-trainable params: 0\n",
            "_________________________________________________________________\n"
          ]
        }
      ]
    },
    {
      "cell_type": "code",
      "source": [
        "# Training the model\n",
        "model1.fit(features, targets, epochs=200, batch_size=100, verbose=0)\n",
        "model2.fit(features, targets, epochs = 200, batch_size = 100, verbose = 0)\n",
        "model3.fit(features, targets, epochs=200, batch_size = 100, verbose = 0)"
      ],
      "metadata": {
        "colab": {
          "base_uri": "https://localhost:8080/"
        },
        "id": "Md0-12zlVpHs",
        "outputId": "15172309-1d4a-477d-8596-71f0e3056f65"
      },
      "id": "Md0-12zlVpHs",
      "execution_count": 40,
      "outputs": [
        {
          "output_type": "execute_result",
          "data": {
            "text/plain": [
              "<keras.callbacks.History at 0x7f9ce79c0ad0>"
            ]
          },
          "metadata": {},
          "execution_count": 40
        }
      ]
    },
    {
      "cell_type": "code",
      "source": [
        "# Evaluating the model on the training and testing set\n",
        "score = model1.evaluate(features, targets)\n",
        "print(\"\\n Training Accuracy:\", score[1])\n",
        "score = model1.evaluate(features_test, targets_test)\n",
        "print(\"\\n Testing Accuracy:\", score[1])\n",
        "\n",
        "# Evaluating model2 on the training and testing set\n",
        "score = model2.evaluate(features, targets)\n",
        "print(\"\\n Training Accuracy:\", score[1])\n",
        "score = model2.evaluate(features_test, targets_test)\n",
        "print(\"\\n Testing Accuracy:\", score[1])\n",
        "\n",
        "# Evaluating model3 on the training and testing set\n",
        "score = model3.evaluate(features, targets)\n",
        "print(\"\\n Training Accuracy:\", score[1])\n",
        "score = model3.evaluate(features_test, targets_test)\n",
        "print(\"\\n Testing Accuracy:\", score[1])"
      ],
      "metadata": {
        "id": "on0ILh9wXa0h",
        "outputId": "2e203c2b-1cd3-40b1-b1ec-b232633caec4",
        "colab": {
          "base_uri": "https://localhost:8080/"
        }
      },
      "id": "on0ILh9wXa0h",
      "execution_count": 41,
      "outputs": [
        {
          "output_type": "stream",
          "name": "stdout",
          "text": [
            "563/563 [==============================] - 1s 2ms/step - loss: 0.2788 - accuracy: 0.8523\n",
            "\n",
            " Training Accuracy: 0.8523333072662354\n",
            "63/63 [==============================] - 0s 1ms/step - loss: 0.2899 - accuracy: 0.8480\n",
            "\n",
            " Testing Accuracy: 0.8479999899864197\n",
            "563/563 [==============================] - 1s 2ms/step - loss: 0.2826 - accuracy: 0.8482\n",
            "\n",
            " Training Accuracy: 0.8482221961021423\n",
            "63/63 [==============================] - 0s 1ms/step - loss: 0.2924 - accuracy: 0.8445\n",
            "\n",
            " Testing Accuracy: 0.8445000052452087\n",
            "563/563 [==============================] - 1s 1ms/step - loss: 0.2887 - accuracy: 0.8473\n",
            "\n",
            " Training Accuracy: 0.8473333120346069\n",
            "63/63 [==============================] - 0s 1ms/step - loss: 0.2950 - accuracy: 0.8425\n",
            "\n",
            " Testing Accuracy: 0.8424999713897705\n"
          ]
        }
      ]
    },
    {
      "cell_type": "markdown",
      "source": [
        "## Observations\n",
        "- Fantasitc! It seems that we have retianed about the same level of accuracy (~85% in Testing) for both models, even though model2 has about 1/10 the parameters as model1. \n",
        "- It seems like our sparse model3 is still quite effective. With only 254 parameters the model stil achieves about 84% accuracy in the testing set.\n",
        "\n",
        "- All of this points to the conclusion that some very simple ANN models do an effective job of classifying High Risk cases from Low Risk ones."
      ],
      "metadata": {
        "id": "81o-TfXOzYD2"
      },
      "id": "81o-TfXOzYD2"
    }
  ],
  "metadata": {
    "kernelspec": {
      "display_name": "Python 3 (ipykernel)",
      "language": "python",
      "name": "python3"
    },
    "language_info": {
      "codemirror_mode": {
        "name": "ipython",
        "version": 3
      },
      "file_extension": ".py",
      "mimetype": "text/x-python",
      "name": "python",
      "nbconvert_exporter": "python",
      "pygments_lexer": "ipython3",
      "version": "3.9.7"
    },
    "colab": {
      "name": "Machine_Learning_Final(William_Stevenson).ipynb",
      "provenance": [],
      "collapsed_sections": [
        "69a05bdf",
        "04676466",
        "0377d2b6",
        "a4591077"
      ],
      "include_colab_link": true
    }
  },
  "nbformat": 4,
  "nbformat_minor": 5
}